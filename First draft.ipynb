{
 "cells": [
  {
   "cell_type": "code",
   "execution_count": 1,
   "metadata": {},
   "outputs": [],
   "source": [
    "import pandas as pd\n",
    "import numpy as np\n",
    "import matplotlib.pyplot as plt\n",
    "from collections import Counter\n",
    "from datetime import datetime\n",
    "import warnings\n",
    "warnings.filterwarnings(\"ignore\")"
   ]
  },
  {
   "cell_type": "markdown",
   "metadata": {},
   "source": [
    "## Таблицы"
   ]
  },
  {
   "cell_type": "code",
   "execution_count": 2,
   "metadata": {},
   "outputs": [],
   "source": [
    "address = pd.read_csv('addresses.csv')"
   ]
  },
  {
   "cell_type": "code",
   "execution_count": 3,
   "metadata": {},
   "outputs": [
    {
     "data": {
      "text/html": [
       "<div>\n",
       "<style scoped>\n",
       "    .dataframe tbody tr th:only-of-type {\n",
       "        vertical-align: middle;\n",
       "    }\n",
       "\n",
       "    .dataframe tbody tr th {\n",
       "        vertical-align: top;\n",
       "    }\n",
       "\n",
       "    .dataframe thead th {\n",
       "        text-align: right;\n",
       "    }\n",
       "</style>\n",
       "<table border=\"1\" class=\"dataframe\">\n",
       "  <thead>\n",
       "    <tr style=\"text-align: right;\">\n",
       "      <th></th>\n",
       "      <th>id</th>\n",
       "      <th>phone_id</th>\n",
       "    </tr>\n",
       "  </thead>\n",
       "  <tbody>\n",
       "    <tr>\n",
       "      <th>0</th>\n",
       "      <td>41</td>\n",
       "      <td>1</td>\n",
       "    </tr>\n",
       "    <tr>\n",
       "      <th>1</th>\n",
       "      <td>8531</td>\n",
       "      <td>2</td>\n",
       "    </tr>\n",
       "    <tr>\n",
       "      <th>2</th>\n",
       "      <td>2982657</td>\n",
       "      <td>2</td>\n",
       "    </tr>\n",
       "  </tbody>\n",
       "</table>\n",
       "</div>"
      ],
      "text/plain": [
       "        id  phone_id\n",
       "0       41         1\n",
       "1     8531         2\n",
       "2  2982657         2"
      ]
     },
     "execution_count": 3,
     "metadata": {},
     "output_type": "execute_result"
    }
   ],
   "source": [
    "address.head(3)"
   ]
  },
  {
   "cell_type": "code",
   "execution_count": 4,
   "metadata": {},
   "outputs": [],
   "source": [
    "sample = pd.read_csv('sample_submission.csv', sep = ';')"
   ]
  },
  {
   "cell_type": "code",
   "execution_count": 5,
   "metadata": {},
   "outputs": [
    {
     "data": {
      "text/html": [
       "<div>\n",
       "<style scoped>\n",
       "    .dataframe tbody tr th:only-of-type {\n",
       "        vertical-align: middle;\n",
       "    }\n",
       "\n",
       "    .dataframe tbody tr th {\n",
       "        vertical-align: top;\n",
       "    }\n",
       "\n",
       "    .dataframe thead th {\n",
       "        text-align: right;\n",
       "    }\n",
       "</style>\n",
       "<table border=\"1\" class=\"dataframe\">\n",
       "  <thead>\n",
       "    <tr style=\"text-align: right;\">\n",
       "      <th></th>\n",
       "      <th>Id</th>\n",
       "      <th>Predicted</th>\n",
       "    </tr>\n",
       "  </thead>\n",
       "  <tbody>\n",
       "    <tr>\n",
       "      <th>0</th>\n",
       "      <td>19843</td>\n",
       "      <td>NaN</td>\n",
       "    </tr>\n",
       "    <tr>\n",
       "      <th>1</th>\n",
       "      <td>471287</td>\n",
       "      <td>NaN</td>\n",
       "    </tr>\n",
       "    <tr>\n",
       "      <th>2</th>\n",
       "      <td>342522</td>\n",
       "      <td>NaN</td>\n",
       "    </tr>\n",
       "  </tbody>\n",
       "</table>\n",
       "</div>"
      ],
      "text/plain": [
       "       Id  Predicted\n",
       "0   19843        NaN\n",
       "1  471287        NaN\n",
       "2  342522        NaN"
      ]
     },
     "execution_count": 5,
     "metadata": {},
     "output_type": "execute_result"
    }
   ],
   "source": [
    "sample.head(3)"
   ]
  },
  {
   "cell_type": "code",
   "execution_count": 6,
   "metadata": {},
   "outputs": [],
   "source": [
    "train = pd.read_csv('train.csv')"
   ]
  },
  {
   "cell_type": "code",
   "execution_count": 7,
   "metadata": {},
   "outputs": [
    {
     "data": {
      "text/html": [
       "<div>\n",
       "<style scoped>\n",
       "    .dataframe tbody tr th:only-of-type {\n",
       "        vertical-align: middle;\n",
       "    }\n",
       "\n",
       "    .dataframe tbody tr th {\n",
       "        vertical-align: top;\n",
       "    }\n",
       "\n",
       "    .dataframe thead th {\n",
       "        text-align: right;\n",
       "    }\n",
       "</style>\n",
       "<table border=\"1\" class=\"dataframe\">\n",
       "  <thead>\n",
       "    <tr style=\"text-align: right;\">\n",
       "      <th></th>\n",
       "      <th>phone_id</th>\n",
       "      <th>order_completed_at</th>\n",
       "      <th>target</th>\n",
       "    </tr>\n",
       "  </thead>\n",
       "  <tbody>\n",
       "    <tr>\n",
       "      <th>0</th>\n",
       "      <td>19843</td>\n",
       "      <td>2020-01</td>\n",
       "      <td>1.0</td>\n",
       "    </tr>\n",
       "    <tr>\n",
       "      <th>1</th>\n",
       "      <td>19843</td>\n",
       "      <td>2020-02</td>\n",
       "      <td>0.0</td>\n",
       "    </tr>\n",
       "    <tr>\n",
       "      <th>2</th>\n",
       "      <td>19843</td>\n",
       "      <td>2020-03</td>\n",
       "      <td>0.0</td>\n",
       "    </tr>\n",
       "  </tbody>\n",
       "</table>\n",
       "</div>"
      ],
      "text/plain": [
       "   phone_id order_completed_at  target\n",
       "0     19843            2020-01     1.0\n",
       "1     19843            2020-02     0.0\n",
       "2     19843            2020-03     0.0"
      ]
     },
     "execution_count": 7,
     "metadata": {},
     "output_type": "execute_result"
    }
   ],
   "source": [
    "train.head(3)"
   ]
  },
  {
   "cell_type": "markdown",
   "metadata": {},
   "source": [
    "### Users"
   ]
  },
  {
   "cell_type": "code",
   "execution_count": 8,
   "metadata": {},
   "outputs": [],
   "source": [
    "users = pd.read_csv('user_profiles.csv')"
   ]
  },
  {
   "cell_type": "code",
   "execution_count": 9,
   "metadata": {},
   "outputs": [
    {
     "data": {
      "text/html": [
       "<div>\n",
       "<style scoped>\n",
       "    .dataframe tbody tr th:only-of-type {\n",
       "        vertical-align: middle;\n",
       "    }\n",
       "\n",
       "    .dataframe tbody tr th {\n",
       "        vertical-align: top;\n",
       "    }\n",
       "\n",
       "    .dataframe thead th {\n",
       "        text-align: right;\n",
       "    }\n",
       "</style>\n",
       "<table border=\"1\" class=\"dataframe\">\n",
       "  <thead>\n",
       "    <tr style=\"text-align: right;\">\n",
       "      <th></th>\n",
       "      <th>user_id</th>\n",
       "      <th>gender</th>\n",
       "      <th>bdate</th>\n",
       "    </tr>\n",
       "  </thead>\n",
       "  <tbody>\n",
       "    <tr>\n",
       "      <th>0</th>\n",
       "      <td>2226207</td>\n",
       "      <td>NaN</td>\n",
       "      <td>NaN</td>\n",
       "    </tr>\n",
       "    <tr>\n",
       "      <th>1</th>\n",
       "      <td>2226207</td>\n",
       "      <td>NaN</td>\n",
       "      <td>NaN</td>\n",
       "    </tr>\n",
       "    <tr>\n",
       "      <th>2</th>\n",
       "      <td>2226207</td>\n",
       "      <td>NaN</td>\n",
       "      <td>NaN</td>\n",
       "    </tr>\n",
       "  </tbody>\n",
       "</table>\n",
       "</div>"
      ],
      "text/plain": [
       "   user_id gender bdate\n",
       "0  2226207    NaN   NaN\n",
       "1  2226207    NaN   NaN\n",
       "2  2226207    NaN   NaN"
      ]
     },
     "execution_count": 9,
     "metadata": {},
     "output_type": "execute_result"
    }
   ],
   "source": [
    "users.head(3)"
   ]
  },
  {
   "cell_type": "code",
   "execution_count": 10,
   "metadata": {},
   "outputs": [
    {
     "data": {
      "text/plain": [
       "120913"
      ]
     },
     "execution_count": 10,
     "metadata": {},
     "output_type": "execute_result"
    }
   ],
   "source": [
    "len(set(users['user_id']))"
   ]
  },
  {
   "cell_type": "code",
   "execution_count": 11,
   "metadata": {},
   "outputs": [],
   "source": [
    "users = users.drop_duplicates(subset = ['user_id'], ignore_index = True)"
   ]
  },
  {
   "cell_type": "code",
   "execution_count": 12,
   "metadata": {},
   "outputs": [],
   "source": [
    "users['age'] = np.nan\n",
    "users['birthday_month'] = np.nan\n",
    "for i in users.index:\n",
    "    if users['bdate'][i]:\n",
    "        a = str(users['bdate'][i])\n",
    "        if a.count('-') == 2:\n",
    "            users['age'][i] = 2020 - int(a.split('-')[0])\n",
    "            users['birthday_month'][i] = int(a.split('-')[1])\n",
    "        elif a.count('.') == 2:\n",
    "            users['age'][i] = 2020 - int(a.split('.')[2])\n",
    "            users['birthday_month'][i] = int(a.split('.')[1])\n",
    "        elif a.count('/') == 2:\n",
    "            users['age'][i] = 2020 - int(a.split('/')[2])\n",
    "            users['birthday_month'][i] = int(a.split('/')[1])"
   ]
  },
  {
   "cell_type": "code",
   "execution_count": 13,
   "metadata": {},
   "outputs": [
    {
     "data": {
      "text/html": [
       "<div>\n",
       "<style scoped>\n",
       "    .dataframe tbody tr th:only-of-type {\n",
       "        vertical-align: middle;\n",
       "    }\n",
       "\n",
       "    .dataframe tbody tr th {\n",
       "        vertical-align: top;\n",
       "    }\n",
       "\n",
       "    .dataframe thead th {\n",
       "        text-align: right;\n",
       "    }\n",
       "</style>\n",
       "<table border=\"1\" class=\"dataframe\">\n",
       "  <thead>\n",
       "    <tr style=\"text-align: right;\">\n",
       "      <th></th>\n",
       "      <th>user_id</th>\n",
       "      <th>gender</th>\n",
       "      <th>bdate</th>\n",
       "      <th>age</th>\n",
       "      <th>birthday_month</th>\n",
       "    </tr>\n",
       "  </thead>\n",
       "  <tbody>\n",
       "    <tr>\n",
       "      <th>0</th>\n",
       "      <td>2226207</td>\n",
       "      <td>NaN</td>\n",
       "      <td>NaN</td>\n",
       "      <td>NaN</td>\n",
       "      <td>NaN</td>\n",
       "    </tr>\n",
       "    <tr>\n",
       "      <th>1</th>\n",
       "      <td>1684318</td>\n",
       "      <td>male</td>\n",
       "      <td>1987-10-11</td>\n",
       "      <td>33.0</td>\n",
       "      <td>10.0</td>\n",
       "    </tr>\n",
       "    <tr>\n",
       "      <th>2</th>\n",
       "      <td>2103797</td>\n",
       "      <td>NaN</td>\n",
       "      <td>NaN</td>\n",
       "      <td>NaN</td>\n",
       "      <td>NaN</td>\n",
       "    </tr>\n",
       "    <tr>\n",
       "      <th>3</th>\n",
       "      <td>2226212</td>\n",
       "      <td>NaN</td>\n",
       "      <td>NaN</td>\n",
       "      <td>NaN</td>\n",
       "      <td>NaN</td>\n",
       "    </tr>\n",
       "    <tr>\n",
       "      <th>4</th>\n",
       "      <td>931514</td>\n",
       "      <td>NaN</td>\n",
       "      <td>NaN</td>\n",
       "      <td>NaN</td>\n",
       "      <td>NaN</td>\n",
       "    </tr>\n",
       "    <tr>\n",
       "      <th>5</th>\n",
       "      <td>2226215</td>\n",
       "      <td>NaN</td>\n",
       "      <td>NaN</td>\n",
       "      <td>NaN</td>\n",
       "      <td>NaN</td>\n",
       "    </tr>\n",
       "    <tr>\n",
       "      <th>6</th>\n",
       "      <td>355641</td>\n",
       "      <td>NaN</td>\n",
       "      <td>NaN</td>\n",
       "      <td>NaN</td>\n",
       "      <td>NaN</td>\n",
       "    </tr>\n",
       "    <tr>\n",
       "      <th>7</th>\n",
       "      <td>2226219</td>\n",
       "      <td>NaN</td>\n",
       "      <td>NaN</td>\n",
       "      <td>NaN</td>\n",
       "      <td>NaN</td>\n",
       "    </tr>\n",
       "    <tr>\n",
       "      <th>8</th>\n",
       "      <td>1290242</td>\n",
       "      <td>male</td>\n",
       "      <td>1982-09-24</td>\n",
       "      <td>38.0</td>\n",
       "      <td>9.0</td>\n",
       "    </tr>\n",
       "    <tr>\n",
       "      <th>9</th>\n",
       "      <td>2226234</td>\n",
       "      <td>NaN</td>\n",
       "      <td>NaN</td>\n",
       "      <td>NaN</td>\n",
       "      <td>NaN</td>\n",
       "    </tr>\n",
       "  </tbody>\n",
       "</table>\n",
       "</div>"
      ],
      "text/plain": [
       "   user_id gender       bdate   age  birthday_month\n",
       "0  2226207    NaN         NaN   NaN             NaN\n",
       "1  1684318   male  1987-10-11  33.0            10.0\n",
       "2  2103797    NaN         NaN   NaN             NaN\n",
       "3  2226212    NaN         NaN   NaN             NaN\n",
       "4   931514    NaN         NaN   NaN             NaN\n",
       "5  2226215    NaN         NaN   NaN             NaN\n",
       "6   355641    NaN         NaN   NaN             NaN\n",
       "7  2226219    NaN         NaN   NaN             NaN\n",
       "8  1290242   male  1982-09-24  38.0             9.0\n",
       "9  2226234    NaN         NaN   NaN             NaN"
      ]
     },
     "execution_count": 13,
     "metadata": {},
     "output_type": "execute_result"
    }
   ],
   "source": [
    "users.head(10)"
   ]
  },
  {
   "cell_type": "code",
   "execution_count": 14,
   "metadata": {},
   "outputs": [
    {
     "name": "stdout",
     "output_type": "stream",
     "text": [
      "<class 'pandas.core.frame.DataFrame'>\n",
      "RangeIndex: 120913 entries, 0 to 120912\n",
      "Data columns (total 5 columns):\n",
      " #   Column          Non-Null Count   Dtype  \n",
      "---  ------          --------------   -----  \n",
      " 0   user_id         120913 non-null  int64  \n",
      " 1   gender          47814 non-null   object \n",
      " 2   bdate           47744 non-null   object \n",
      " 3   age             47642 non-null   float64\n",
      " 4   birthday_month  47642 non-null   float64\n",
      "dtypes: float64(2), int64(1), object(2)\n",
      "memory usage: 4.6+ MB\n"
     ]
    }
   ],
   "source": [
    "users.info()"
   ]
  },
  {
   "cell_type": "code",
   "execution_count": 15,
   "metadata": {},
   "outputs": [],
   "source": [
    "#users.to_csv('cleaned_users.csv', index = True, sep = ',')"
   ]
  },
  {
   "cell_type": "markdown",
   "metadata": {},
   "source": [
    "### Shipments"
   ]
  },
  {
   "cell_type": "code",
   "execution_count": 15,
   "metadata": {},
   "outputs": [],
   "source": [
    "ship_1 = pd.read_csv('shipments2020-01-01.csv')\n",
    "ship_2 = pd.read_csv('shipments2020-03-01.csv')\n",
    "ship_3 = pd.read_csv('shipments2020-04-30.csv')\n",
    "ship_4 = pd.read_csv('shipments2020-06-29.csv')"
   ]
  },
  {
   "cell_type": "code",
   "execution_count": 16,
   "metadata": {},
   "outputs": [
    {
     "data": {
      "text/html": [
       "<div>\n",
       "<style scoped>\n",
       "    .dataframe tbody tr th:only-of-type {\n",
       "        vertical-align: middle;\n",
       "    }\n",
       "\n",
       "    .dataframe tbody tr th {\n",
       "        vertical-align: top;\n",
       "    }\n",
       "\n",
       "    .dataframe thead th {\n",
       "        text-align: right;\n",
       "    }\n",
       "</style>\n",
       "<table border=\"1\" class=\"dataframe\">\n",
       "  <thead>\n",
       "    <tr style=\"text-align: right;\">\n",
       "      <th></th>\n",
       "      <th>user_id</th>\n",
       "      <th>ship_address_id</th>\n",
       "      <th>shipment_id</th>\n",
       "      <th>order_id</th>\n",
       "      <th>order_created_at</th>\n",
       "      <th>order_completed_at</th>\n",
       "      <th>shipment_starts_at</th>\n",
       "      <th>retailer</th>\n",
       "      <th>s.order_state</th>\n",
       "      <th>shipment_state</th>\n",
       "      <th>s.city_name</th>\n",
       "      <th>s.store_id</th>\n",
       "      <th>total_cost</th>\n",
       "      <th>rate</th>\n",
       "      <th>dw_kind</th>\n",
       "      <th>promo_total</th>\n",
       "      <th>total_weight</th>\n",
       "      <th>platform</th>\n",
       "      <th>os</th>\n",
       "      <th>shipped_at</th>\n",
       "    </tr>\n",
       "  </thead>\n",
       "  <tbody>\n",
       "    <tr>\n",
       "      <th>0</th>\n",
       "      <td>11019</td>\n",
       "      <td>171906</td>\n",
       "      <td>322307</td>\n",
       "      <td>2156687</td>\n",
       "      <td>2017-08-03 21:25:23</td>\n",
       "      <td>2020-02-18 14:07:00</td>\n",
       "      <td>2020-02-20 07:00:00</td>\n",
       "      <td>METRO</td>\n",
       "      <td>complete</td>\n",
       "      <td>shipped</td>\n",
       "      <td>Москва</td>\n",
       "      <td>21</td>\n",
       "      <td>168.0</td>\n",
       "      <td>0</td>\n",
       "      <td>courier</td>\n",
       "      <td>0.0</td>\n",
       "      <td>30170</td>\n",
       "      <td>web</td>\n",
       "      <td>windows</td>\n",
       "      <td>2020-02-20 08:08:54</td>\n",
       "    </tr>\n",
       "    <tr>\n",
       "      <th>1</th>\n",
       "      <td>62278</td>\n",
       "      <td>278832</td>\n",
       "      <td>387023</td>\n",
       "      <td>3021953</td>\n",
       "      <td>2018-03-02 17:22:04</td>\n",
       "      <td>2020-01-03 13:09:26</td>\n",
       "      <td>2020-01-03 17:00:00</td>\n",
       "      <td>METRO</td>\n",
       "      <td>complete</td>\n",
       "      <td>shipped</td>\n",
       "      <td>Москва</td>\n",
       "      <td>10</td>\n",
       "      <td>98.0</td>\n",
       "      <td>0</td>\n",
       "      <td>courier</td>\n",
       "      <td>-150.0</td>\n",
       "      <td>11305</td>\n",
       "      <td>web</td>\n",
       "      <td>windows</td>\n",
       "      <td>2020-01-03 18:10:40</td>\n",
       "    </tr>\n",
       "    <tr>\n",
       "      <th>2</th>\n",
       "      <td>905126</td>\n",
       "      <td>468407</td>\n",
       "      <td>388943</td>\n",
       "      <td>3018198</td>\n",
       "      <td>2018-02-28 11:32:47</td>\n",
       "      <td>2020-02-12 12:39:28</td>\n",
       "      <td>2020-02-13 11:00:00</td>\n",
       "      <td>METRO</td>\n",
       "      <td>complete</td>\n",
       "      <td>shipped</td>\n",
       "      <td>Москва</td>\n",
       "      <td>21</td>\n",
       "      <td>98.0</td>\n",
       "      <td>5</td>\n",
       "      <td>courier</td>\n",
       "      <td>0.0</td>\n",
       "      <td>13589</td>\n",
       "      <td>app</td>\n",
       "      <td>ios</td>\n",
       "      <td>2020-02-13 12:33:53</td>\n",
       "    </tr>\n",
       "  </tbody>\n",
       "</table>\n",
       "</div>"
      ],
      "text/plain": [
       "   user_id  ship_address_id  shipment_id  order_id     order_created_at  \\\n",
       "0    11019           171906       322307   2156687  2017-08-03 21:25:23   \n",
       "1    62278           278832       387023   3021953  2018-03-02 17:22:04   \n",
       "2   905126           468407       388943   3018198  2018-02-28 11:32:47   \n",
       "\n",
       "    order_completed_at   shipment_starts_at retailer s.order_state  \\\n",
       "0  2020-02-18 14:07:00  2020-02-20 07:00:00    METRO      complete   \n",
       "1  2020-01-03 13:09:26  2020-01-03 17:00:00    METRO      complete   \n",
       "2  2020-02-12 12:39:28  2020-02-13 11:00:00    METRO      complete   \n",
       "\n",
       "  shipment_state s.city_name  s.store_id  total_cost  rate  dw_kind  \\\n",
       "0        shipped      Москва          21       168.0     0  courier   \n",
       "1        shipped      Москва          10        98.0     0  courier   \n",
       "2        shipped      Москва          21        98.0     5  courier   \n",
       "\n",
       "   promo_total  total_weight platform       os           shipped_at  \n",
       "0          0.0         30170      web  windows  2020-02-20 08:08:54  \n",
       "1       -150.0         11305      web  windows  2020-01-03 18:10:40  \n",
       "2          0.0         13589      app      ios  2020-02-13 12:33:53  "
      ]
     },
     "execution_count": 16,
     "metadata": {},
     "output_type": "execute_result"
    }
   ],
   "source": [
    "ship_1.head(3)"
   ]
  },
  {
   "cell_type": "code",
   "execution_count": 17,
   "metadata": {},
   "outputs": [
    {
     "data": {
      "text/html": [
       "<div>\n",
       "<style scoped>\n",
       "    .dataframe tbody tr th:only-of-type {\n",
       "        vertical-align: middle;\n",
       "    }\n",
       "\n",
       "    .dataframe tbody tr th {\n",
       "        vertical-align: top;\n",
       "    }\n",
       "\n",
       "    .dataframe thead th {\n",
       "        text-align: right;\n",
       "    }\n",
       "</style>\n",
       "<table border=\"1\" class=\"dataframe\">\n",
       "  <thead>\n",
       "    <tr style=\"text-align: right;\">\n",
       "      <th></th>\n",
       "      <th>user_id</th>\n",
       "      <th>ship_address_id</th>\n",
       "      <th>shipment_id</th>\n",
       "      <th>order_id</th>\n",
       "      <th>order_created_at</th>\n",
       "      <th>order_completed_at</th>\n",
       "      <th>shipment_starts_at</th>\n",
       "      <th>retailer</th>\n",
       "      <th>s.order_state</th>\n",
       "      <th>shipment_state</th>\n",
       "      <th>s.city_name</th>\n",
       "      <th>s.store_id</th>\n",
       "      <th>total_cost</th>\n",
       "      <th>rate</th>\n",
       "      <th>dw_kind</th>\n",
       "      <th>promo_total</th>\n",
       "      <th>total_weight</th>\n",
       "      <th>platform</th>\n",
       "      <th>os</th>\n",
       "      <th>shipped_at</th>\n",
       "    </tr>\n",
       "  </thead>\n",
       "  <tbody>\n",
       "    <tr>\n",
       "      <th>0</th>\n",
       "      <td>4077</td>\n",
       "      <td>4058639</td>\n",
       "      <td>178163</td>\n",
       "      <td>1291559</td>\n",
       "      <td>2017-05-10 10:16:41</td>\n",
       "      <td>2020-03-13 11:57:53</td>\n",
       "      <td>2020-03-15 12:00:00</td>\n",
       "      <td>METRO</td>\n",
       "      <td>canceled</td>\n",
       "      <td>canceled</td>\n",
       "      <td>Москва</td>\n",
       "      <td>1</td>\n",
       "      <td>158.0</td>\n",
       "      <td>0</td>\n",
       "      <td>courier</td>\n",
       "      <td>0.0</td>\n",
       "      <td>27610</td>\n",
       "      <td>web</td>\n",
       "      <td>windows</td>\n",
       "      <td>NaN</td>\n",
       "    </tr>\n",
       "    <tr>\n",
       "      <th>1</th>\n",
       "      <td>48861</td>\n",
       "      <td>271117</td>\n",
       "      <td>383088</td>\n",
       "      <td>3015822</td>\n",
       "      <td>2018-02-27 10:48:13</td>\n",
       "      <td>2020-04-24 21:09:15</td>\n",
       "      <td>2020-04-30 07:00:00</td>\n",
       "      <td>METRO</td>\n",
       "      <td>complete</td>\n",
       "      <td>shipped</td>\n",
       "      <td>Москва</td>\n",
       "      <td>3</td>\n",
       "      <td>499.0</td>\n",
       "      <td>0</td>\n",
       "      <td>courier</td>\n",
       "      <td>0.0</td>\n",
       "      <td>87806</td>\n",
       "      <td>web</td>\n",
       "      <td>windows</td>\n",
       "      <td>2020-04-30 12:53:17</td>\n",
       "    </tr>\n",
       "    <tr>\n",
       "      <th>2</th>\n",
       "      <td>3119</td>\n",
       "      <td>276189</td>\n",
       "      <td>385477</td>\n",
       "      <td>3019844</td>\n",
       "      <td>2018-03-01 11:58:09</td>\n",
       "      <td>2020-04-25 17:30:52</td>\n",
       "      <td>2020-04-26 12:00:00</td>\n",
       "      <td>METRO</td>\n",
       "      <td>complete</td>\n",
       "      <td>shipped</td>\n",
       "      <td>Москва</td>\n",
       "      <td>14</td>\n",
       "      <td>158.0</td>\n",
       "      <td>0</td>\n",
       "      <td>courier</td>\n",
       "      <td>0.0</td>\n",
       "      <td>23029</td>\n",
       "      <td>web</td>\n",
       "      <td>windows</td>\n",
       "      <td>2020-04-26 11:54:23</td>\n",
       "    </tr>\n",
       "  </tbody>\n",
       "</table>\n",
       "</div>"
      ],
      "text/plain": [
       "   user_id  ship_address_id  shipment_id  order_id     order_created_at  \\\n",
       "0     4077          4058639       178163   1291559  2017-05-10 10:16:41   \n",
       "1    48861           271117       383088   3015822  2018-02-27 10:48:13   \n",
       "2     3119           276189       385477   3019844  2018-03-01 11:58:09   \n",
       "\n",
       "    order_completed_at   shipment_starts_at retailer s.order_state  \\\n",
       "0  2020-03-13 11:57:53  2020-03-15 12:00:00    METRO      canceled   \n",
       "1  2020-04-24 21:09:15  2020-04-30 07:00:00    METRO      complete   \n",
       "2  2020-04-25 17:30:52  2020-04-26 12:00:00    METRO      complete   \n",
       "\n",
       "  shipment_state s.city_name  s.store_id  total_cost  rate  dw_kind  \\\n",
       "0       canceled      Москва           1       158.0     0  courier   \n",
       "1        shipped      Москва           3       499.0     0  courier   \n",
       "2        shipped      Москва          14       158.0     0  courier   \n",
       "\n",
       "   promo_total  total_weight platform       os           shipped_at  \n",
       "0          0.0         27610      web  windows                  NaN  \n",
       "1          0.0         87806      web  windows  2020-04-30 12:53:17  \n",
       "2          0.0         23029      web  windows  2020-04-26 11:54:23  "
      ]
     },
     "execution_count": 17,
     "metadata": {},
     "output_type": "execute_result"
    }
   ],
   "source": [
    "ship_2.head(3)"
   ]
  },
  {
   "cell_type": "code",
   "execution_count": 18,
   "metadata": {},
   "outputs": [],
   "source": [
    "ships = pd.concat([ship_1, ship_2, ship_3, ship_4])"
   ]
  },
  {
   "cell_type": "code",
   "execution_count": 19,
   "metadata": {},
   "outputs": [
    {
     "data": {
      "text/html": [
       "<div>\n",
       "<style scoped>\n",
       "    .dataframe tbody tr th:only-of-type {\n",
       "        vertical-align: middle;\n",
       "    }\n",
       "\n",
       "    .dataframe tbody tr th {\n",
       "        vertical-align: top;\n",
       "    }\n",
       "\n",
       "    .dataframe thead th {\n",
       "        text-align: right;\n",
       "    }\n",
       "</style>\n",
       "<table border=\"1\" class=\"dataframe\">\n",
       "  <thead>\n",
       "    <tr style=\"text-align: right;\">\n",
       "      <th></th>\n",
       "      <th>user_id</th>\n",
       "      <th>ship_address_id</th>\n",
       "      <th>shipment_id</th>\n",
       "      <th>order_id</th>\n",
       "      <th>order_created_at</th>\n",
       "      <th>order_completed_at</th>\n",
       "      <th>shipment_starts_at</th>\n",
       "      <th>retailer</th>\n",
       "      <th>s.order_state</th>\n",
       "      <th>shipment_state</th>\n",
       "      <th>s.city_name</th>\n",
       "      <th>s.store_id</th>\n",
       "      <th>total_cost</th>\n",
       "      <th>rate</th>\n",
       "      <th>dw_kind</th>\n",
       "      <th>promo_total</th>\n",
       "      <th>total_weight</th>\n",
       "      <th>platform</th>\n",
       "      <th>os</th>\n",
       "      <th>shipped_at</th>\n",
       "    </tr>\n",
       "  </thead>\n",
       "  <tbody>\n",
       "    <tr>\n",
       "      <th>0</th>\n",
       "      <td>11019</td>\n",
       "      <td>171906</td>\n",
       "      <td>322307</td>\n",
       "      <td>2156687</td>\n",
       "      <td>2017-08-03 21:25:23</td>\n",
       "      <td>2020-02-18 14:07:00</td>\n",
       "      <td>2020-02-20 07:00:00</td>\n",
       "      <td>METRO</td>\n",
       "      <td>complete</td>\n",
       "      <td>shipped</td>\n",
       "      <td>Москва</td>\n",
       "      <td>21</td>\n",
       "      <td>168.0</td>\n",
       "      <td>0</td>\n",
       "      <td>courier</td>\n",
       "      <td>0.0</td>\n",
       "      <td>30170</td>\n",
       "      <td>web</td>\n",
       "      <td>windows</td>\n",
       "      <td>2020-02-20 08:08:54</td>\n",
       "    </tr>\n",
       "    <tr>\n",
       "      <th>1</th>\n",
       "      <td>62278</td>\n",
       "      <td>278832</td>\n",
       "      <td>387023</td>\n",
       "      <td>3021953</td>\n",
       "      <td>2018-03-02 17:22:04</td>\n",
       "      <td>2020-01-03 13:09:26</td>\n",
       "      <td>2020-01-03 17:00:00</td>\n",
       "      <td>METRO</td>\n",
       "      <td>complete</td>\n",
       "      <td>shipped</td>\n",
       "      <td>Москва</td>\n",
       "      <td>10</td>\n",
       "      <td>98.0</td>\n",
       "      <td>0</td>\n",
       "      <td>courier</td>\n",
       "      <td>-150.0</td>\n",
       "      <td>11305</td>\n",
       "      <td>web</td>\n",
       "      <td>windows</td>\n",
       "      <td>2020-01-03 18:10:40</td>\n",
       "    </tr>\n",
       "    <tr>\n",
       "      <th>2</th>\n",
       "      <td>905126</td>\n",
       "      <td>468407</td>\n",
       "      <td>388943</td>\n",
       "      <td>3018198</td>\n",
       "      <td>2018-02-28 11:32:47</td>\n",
       "      <td>2020-02-12 12:39:28</td>\n",
       "      <td>2020-02-13 11:00:00</td>\n",
       "      <td>METRO</td>\n",
       "      <td>complete</td>\n",
       "      <td>shipped</td>\n",
       "      <td>Москва</td>\n",
       "      <td>21</td>\n",
       "      <td>98.0</td>\n",
       "      <td>5</td>\n",
       "      <td>courier</td>\n",
       "      <td>0.0</td>\n",
       "      <td>13589</td>\n",
       "      <td>app</td>\n",
       "      <td>ios</td>\n",
       "      <td>2020-02-13 12:33:53</td>\n",
       "    </tr>\n",
       "  </tbody>\n",
       "</table>\n",
       "</div>"
      ],
      "text/plain": [
       "   user_id  ship_address_id  shipment_id  order_id     order_created_at  \\\n",
       "0    11019           171906       322307   2156687  2017-08-03 21:25:23   \n",
       "1    62278           278832       387023   3021953  2018-03-02 17:22:04   \n",
       "2   905126           468407       388943   3018198  2018-02-28 11:32:47   \n",
       "\n",
       "    order_completed_at   shipment_starts_at retailer s.order_state  \\\n",
       "0  2020-02-18 14:07:00  2020-02-20 07:00:00    METRO      complete   \n",
       "1  2020-01-03 13:09:26  2020-01-03 17:00:00    METRO      complete   \n",
       "2  2020-02-12 12:39:28  2020-02-13 11:00:00    METRO      complete   \n",
       "\n",
       "  shipment_state s.city_name  s.store_id  total_cost  rate  dw_kind  \\\n",
       "0        shipped      Москва          21       168.0     0  courier   \n",
       "1        shipped      Москва          10        98.0     0  courier   \n",
       "2        shipped      Москва          21        98.0     5  courier   \n",
       "\n",
       "   promo_total  total_weight platform       os           shipped_at  \n",
       "0          0.0         30170      web  windows  2020-02-20 08:08:54  \n",
       "1       -150.0         11305      web  windows  2020-01-03 18:10:40  \n",
       "2          0.0         13589      app      ios  2020-02-13 12:33:53  "
      ]
     },
     "execution_count": 19,
     "metadata": {},
     "output_type": "execute_result"
    }
   ],
   "source": [
    "ships.head(3)"
   ]
  },
  {
   "cell_type": "code",
   "execution_count": 20,
   "metadata": {},
   "outputs": [
    {
     "data": {
      "text/plain": [
       "(2260686, 20)"
      ]
     },
     "execution_count": 20,
     "metadata": {},
     "output_type": "execute_result"
    }
   ],
   "source": [
    "ships.shape"
   ]
  },
  {
   "cell_type": "markdown",
   "metadata": {},
   "source": [
    "## Merges"
   ]
  },
  {
   "cell_type": "code",
   "execution_count": 21,
   "metadata": {},
   "outputs": [],
   "source": [
    "ships_users = ships.merge(users, how = 'left', on='user_id')"
   ]
  },
  {
   "cell_type": "code",
   "execution_count": 22,
   "metadata": {},
   "outputs": [
    {
     "data": {
      "text/plain": [
       "(2260686, 24)"
      ]
     },
     "execution_count": 22,
     "metadata": {},
     "output_type": "execute_result"
    }
   ],
   "source": [
    "ships_users.shape"
   ]
  },
  {
   "cell_type": "code",
   "execution_count": 23,
   "metadata": {},
   "outputs": [],
   "source": [
    "ships_users['Wait']  = pd.to_datetime(ships_users['shipped_at']) - pd.to_datetime(ships_users['order_completed_at'])"
   ]
  },
  {
   "cell_type": "code",
   "execution_count": 24,
   "metadata": {},
   "outputs": [],
   "source": [
    "ships_users['Wait hours'] = ships_users['Wait'].apply(lambda x: (x.seconds)/3600)"
   ]
  },
  {
   "cell_type": "code",
   "execution_count": 25,
   "metadata": {},
   "outputs": [
    {
     "data": {
      "text/html": [
       "<div>\n",
       "<style scoped>\n",
       "    .dataframe tbody tr th:only-of-type {\n",
       "        vertical-align: middle;\n",
       "    }\n",
       "\n",
       "    .dataframe tbody tr th {\n",
       "        vertical-align: top;\n",
       "    }\n",
       "\n",
       "    .dataframe thead th {\n",
       "        text-align: right;\n",
       "    }\n",
       "</style>\n",
       "<table border=\"1\" class=\"dataframe\">\n",
       "  <thead>\n",
       "    <tr style=\"text-align: right;\">\n",
       "      <th></th>\n",
       "      <th>user_id</th>\n",
       "      <th>ship_address_id</th>\n",
       "      <th>shipment_id</th>\n",
       "      <th>order_id</th>\n",
       "      <th>order_created_at</th>\n",
       "      <th>order_completed_at</th>\n",
       "      <th>shipment_starts_at</th>\n",
       "      <th>retailer</th>\n",
       "      <th>s.order_state</th>\n",
       "      <th>shipment_state</th>\n",
       "      <th>...</th>\n",
       "      <th>total_weight</th>\n",
       "      <th>platform</th>\n",
       "      <th>os</th>\n",
       "      <th>shipped_at</th>\n",
       "      <th>gender</th>\n",
       "      <th>bdate</th>\n",
       "      <th>age</th>\n",
       "      <th>birthday_month</th>\n",
       "      <th>Wait</th>\n",
       "      <th>Wait hours</th>\n",
       "    </tr>\n",
       "  </thead>\n",
       "  <tbody>\n",
       "    <tr>\n",
       "      <th>0</th>\n",
       "      <td>11019</td>\n",
       "      <td>171906</td>\n",
       "      <td>322307</td>\n",
       "      <td>2156687</td>\n",
       "      <td>2017-08-03 21:25:23</td>\n",
       "      <td>2020-02-18 14:07:00</td>\n",
       "      <td>2020-02-20 07:00:00</td>\n",
       "      <td>METRO</td>\n",
       "      <td>complete</td>\n",
       "      <td>shipped</td>\n",
       "      <td>...</td>\n",
       "      <td>30170</td>\n",
       "      <td>web</td>\n",
       "      <td>windows</td>\n",
       "      <td>2020-02-20 08:08:54</td>\n",
       "      <td>NaN</td>\n",
       "      <td>NaN</td>\n",
       "      <td>NaN</td>\n",
       "      <td>NaN</td>\n",
       "      <td>1 days 18:01:54</td>\n",
       "      <td>18.031667</td>\n",
       "    </tr>\n",
       "    <tr>\n",
       "      <th>1</th>\n",
       "      <td>62278</td>\n",
       "      <td>278832</td>\n",
       "      <td>387023</td>\n",
       "      <td>3021953</td>\n",
       "      <td>2018-03-02 17:22:04</td>\n",
       "      <td>2020-01-03 13:09:26</td>\n",
       "      <td>2020-01-03 17:00:00</td>\n",
       "      <td>METRO</td>\n",
       "      <td>complete</td>\n",
       "      <td>shipped</td>\n",
       "      <td>...</td>\n",
       "      <td>11305</td>\n",
       "      <td>web</td>\n",
       "      <td>windows</td>\n",
       "      <td>2020-01-03 18:10:40</td>\n",
       "      <td>NaN</td>\n",
       "      <td>NaN</td>\n",
       "      <td>NaN</td>\n",
       "      <td>NaN</td>\n",
       "      <td>0 days 05:01:14</td>\n",
       "      <td>5.020556</td>\n",
       "    </tr>\n",
       "    <tr>\n",
       "      <th>2</th>\n",
       "      <td>905126</td>\n",
       "      <td>468407</td>\n",
       "      <td>388943</td>\n",
       "      <td>3018198</td>\n",
       "      <td>2018-02-28 11:32:47</td>\n",
       "      <td>2020-02-12 12:39:28</td>\n",
       "      <td>2020-02-13 11:00:00</td>\n",
       "      <td>METRO</td>\n",
       "      <td>complete</td>\n",
       "      <td>shipped</td>\n",
       "      <td>...</td>\n",
       "      <td>13589</td>\n",
       "      <td>app</td>\n",
       "      <td>ios</td>\n",
       "      <td>2020-02-13 12:33:53</td>\n",
       "      <td>NaN</td>\n",
       "      <td>NaN</td>\n",
       "      <td>NaN</td>\n",
       "      <td>NaN</td>\n",
       "      <td>0 days 23:54:25</td>\n",
       "      <td>23.906944</td>\n",
       "    </tr>\n",
       "  </tbody>\n",
       "</table>\n",
       "<p>3 rows × 26 columns</p>\n",
       "</div>"
      ],
      "text/plain": [
       "   user_id  ship_address_id  shipment_id  order_id     order_created_at  \\\n",
       "0    11019           171906       322307   2156687  2017-08-03 21:25:23   \n",
       "1    62278           278832       387023   3021953  2018-03-02 17:22:04   \n",
       "2   905126           468407       388943   3018198  2018-02-28 11:32:47   \n",
       "\n",
       "    order_completed_at   shipment_starts_at retailer s.order_state  \\\n",
       "0  2020-02-18 14:07:00  2020-02-20 07:00:00    METRO      complete   \n",
       "1  2020-01-03 13:09:26  2020-01-03 17:00:00    METRO      complete   \n",
       "2  2020-02-12 12:39:28  2020-02-13 11:00:00    METRO      complete   \n",
       "\n",
       "  shipment_state  ... total_weight  platform       os           shipped_at  \\\n",
       "0        shipped  ...        30170       web  windows  2020-02-20 08:08:54   \n",
       "1        shipped  ...        11305       web  windows  2020-01-03 18:10:40   \n",
       "2        shipped  ...        13589       app      ios  2020-02-13 12:33:53   \n",
       "\n",
       "  gender  bdate  age birthday_month            Wait Wait hours  \n",
       "0    NaN    NaN  NaN            NaN 1 days 18:01:54  18.031667  \n",
       "1    NaN    NaN  NaN            NaN 0 days 05:01:14   5.020556  \n",
       "2    NaN    NaN  NaN            NaN 0 days 23:54:25  23.906944  \n",
       "\n",
       "[3 rows x 26 columns]"
      ]
     },
     "execution_count": 25,
     "metadata": {},
     "output_type": "execute_result"
    }
   ],
   "source": [
    "ships_users.head(3)"
   ]
  },
  {
   "cell_type": "code",
   "execution_count": 27,
   "metadata": {},
   "outputs": [],
   "source": [
    "# train.head(20)"
   ]
  },
  {
   "cell_type": "markdown",
   "metadata": {},
   "source": [
    "### Добавляем таблицу lines (доп. ноутбук)"
   ]
  },
  {
   "cell_type": "code",
   "execution_count": 26,
   "metadata": {},
   "outputs": [],
   "source": [
    "shipmnet_agg = pd.read_csv('products_per_shipment_aggregation_v2_.csv')"
   ]
  },
  {
   "cell_type": "code",
   "execution_count": 27,
   "metadata": {},
   "outputs": [],
   "source": [
    "shipmnet_agg['percent_of_discount'] = shipmnet_agg['total_discount']/shipmnet_agg['total_price_without_dicsount']*100\n",
    "shipmnet_agg['average_price'] = shipmnet_agg['total_price_without_dicsount']/shipmnet_agg['total_number_of_products']"
   ]
  },
  {
   "cell_type": "code",
   "execution_count": 28,
   "metadata": {},
   "outputs": [
    {
     "data": {
      "text/html": [
       "<div>\n",
       "<style scoped>\n",
       "    .dataframe tbody tr th:only-of-type {\n",
       "        vertical-align: middle;\n",
       "    }\n",
       "\n",
       "    .dataframe tbody tr th {\n",
       "        vertical-align: top;\n",
       "    }\n",
       "\n",
       "    .dataframe thead th {\n",
       "        text-align: right;\n",
       "    }\n",
       "</style>\n",
       "<table border=\"1\" class=\"dataframe\">\n",
       "  <thead>\n",
       "    <tr style=\"text-align: right;\">\n",
       "      <th></th>\n",
       "      <th>shipment_id</th>\n",
       "      <th>total_number_of_products</th>\n",
       "      <th>total_number_of_unique_products</th>\n",
       "      <th>total_price_without_dicsount</th>\n",
       "      <th>total_discount</th>\n",
       "      <th>cancelled</th>\n",
       "      <th>replaced</th>\n",
       "      <th>percent_of_discount</th>\n",
       "      <th>average_price</th>\n",
       "    </tr>\n",
       "  </thead>\n",
       "  <tbody>\n",
       "    <tr>\n",
       "      <th>0</th>\n",
       "      <td>178163</td>\n",
       "      <td>43</td>\n",
       "      <td>31</td>\n",
       "      <td>7489.499998</td>\n",
       "      <td>320.939995</td>\n",
       "      <td>7</td>\n",
       "      <td>0</td>\n",
       "      <td>4.285199</td>\n",
       "      <td>174.174419</td>\n",
       "    </tr>\n",
       "    <tr>\n",
       "      <th>1</th>\n",
       "      <td>273988</td>\n",
       "      <td>113</td>\n",
       "      <td>81</td>\n",
       "      <td>33582.100059</td>\n",
       "      <td>2102.400017</td>\n",
       "      <td>9</td>\n",
       "      <td>4</td>\n",
       "      <td>6.260478</td>\n",
       "      <td>297.186726</td>\n",
       "    </tr>\n",
       "    <tr>\n",
       "      <th>2</th>\n",
       "      <td>322307</td>\n",
       "      <td>47</td>\n",
       "      <td>24</td>\n",
       "      <td>3529.400031</td>\n",
       "      <td>1198.849987</td>\n",
       "      <td>1</td>\n",
       "      <td>0</td>\n",
       "      <td>33.967529</td>\n",
       "      <td>75.093618</td>\n",
       "    </tr>\n",
       "  </tbody>\n",
       "</table>\n",
       "</div>"
      ],
      "text/plain": [
       "   shipment_id  total_number_of_products  total_number_of_unique_products  \\\n",
       "0       178163                        43                               31   \n",
       "1       273988                       113                               81   \n",
       "2       322307                        47                               24   \n",
       "\n",
       "   total_price_without_dicsount  total_discount  cancelled  replaced  \\\n",
       "0                   7489.499998      320.939995          7         0   \n",
       "1                  33582.100059     2102.400017          9         4   \n",
       "2                   3529.400031     1198.849987          1         0   \n",
       "\n",
       "   percent_of_discount  average_price  \n",
       "0             4.285199     174.174419  \n",
       "1             6.260478     297.186726  \n",
       "2            33.967529      75.093618  "
      ]
     },
     "execution_count": 28,
     "metadata": {},
     "output_type": "execute_result"
    }
   ],
   "source": [
    "shipmnet_agg.head(3)"
   ]
  },
  {
   "cell_type": "code",
   "execution_count": 29,
   "metadata": {},
   "outputs": [],
   "source": [
    "ships_final = ships_users.merge(shipmnet_agg, how = 'left', on='shipment_id')"
   ]
  },
  {
   "cell_type": "code",
   "execution_count": 30,
   "metadata": {},
   "outputs": [
    {
     "data": {
      "text/html": [
       "<div>\n",
       "<style scoped>\n",
       "    .dataframe tbody tr th:only-of-type {\n",
       "        vertical-align: middle;\n",
       "    }\n",
       "\n",
       "    .dataframe tbody tr th {\n",
       "        vertical-align: top;\n",
       "    }\n",
       "\n",
       "    .dataframe thead th {\n",
       "        text-align: right;\n",
       "    }\n",
       "</style>\n",
       "<table border=\"1\" class=\"dataframe\">\n",
       "  <thead>\n",
       "    <tr style=\"text-align: right;\">\n",
       "      <th></th>\n",
       "      <th>user_id</th>\n",
       "      <th>ship_address_id</th>\n",
       "      <th>shipment_id</th>\n",
       "      <th>order_id</th>\n",
       "      <th>order_created_at</th>\n",
       "      <th>order_completed_at</th>\n",
       "      <th>shipment_starts_at</th>\n",
       "      <th>retailer</th>\n",
       "      <th>s.order_state</th>\n",
       "      <th>shipment_state</th>\n",
       "      <th>...</th>\n",
       "      <th>Wait</th>\n",
       "      <th>Wait hours</th>\n",
       "      <th>total_number_of_products</th>\n",
       "      <th>total_number_of_unique_products</th>\n",
       "      <th>total_price_without_dicsount</th>\n",
       "      <th>total_discount</th>\n",
       "      <th>cancelled</th>\n",
       "      <th>replaced</th>\n",
       "      <th>percent_of_discount</th>\n",
       "      <th>average_price</th>\n",
       "    </tr>\n",
       "  </thead>\n",
       "  <tbody>\n",
       "    <tr>\n",
       "      <th>0</th>\n",
       "      <td>11019</td>\n",
       "      <td>171906</td>\n",
       "      <td>322307</td>\n",
       "      <td>2156687</td>\n",
       "      <td>2017-08-03 21:25:23</td>\n",
       "      <td>2020-02-18 14:07:00</td>\n",
       "      <td>2020-02-20 07:00:00</td>\n",
       "      <td>METRO</td>\n",
       "      <td>complete</td>\n",
       "      <td>shipped</td>\n",
       "      <td>...</td>\n",
       "      <td>1 days 18:01:54</td>\n",
       "      <td>18.031667</td>\n",
       "      <td>47.0</td>\n",
       "      <td>24.0</td>\n",
       "      <td>3529.400031</td>\n",
       "      <td>1198.849987</td>\n",
       "      <td>1.0</td>\n",
       "      <td>0.0</td>\n",
       "      <td>33.967529</td>\n",
       "      <td>75.093618</td>\n",
       "    </tr>\n",
       "    <tr>\n",
       "      <th>1</th>\n",
       "      <td>62278</td>\n",
       "      <td>278832</td>\n",
       "      <td>387023</td>\n",
       "      <td>3021953</td>\n",
       "      <td>2018-03-02 17:22:04</td>\n",
       "      <td>2020-01-03 13:09:26</td>\n",
       "      <td>2020-01-03 17:00:00</td>\n",
       "      <td>METRO</td>\n",
       "      <td>complete</td>\n",
       "      <td>shipped</td>\n",
       "      <td>...</td>\n",
       "      <td>0 days 05:01:14</td>\n",
       "      <td>5.020556</td>\n",
       "      <td>58.0</td>\n",
       "      <td>37.0</td>\n",
       "      <td>4160.300014</td>\n",
       "      <td>445.019999</td>\n",
       "      <td>1.0</td>\n",
       "      <td>0.0</td>\n",
       "      <td>10.696825</td>\n",
       "      <td>71.729311</td>\n",
       "    </tr>\n",
       "    <tr>\n",
       "      <th>2</th>\n",
       "      <td>905126</td>\n",
       "      <td>468407</td>\n",
       "      <td>388943</td>\n",
       "      <td>3018198</td>\n",
       "      <td>2018-02-28 11:32:47</td>\n",
       "      <td>2020-02-12 12:39:28</td>\n",
       "      <td>2020-02-13 11:00:00</td>\n",
       "      <td>METRO</td>\n",
       "      <td>complete</td>\n",
       "      <td>shipped</td>\n",
       "      <td>...</td>\n",
       "      <td>0 days 23:54:25</td>\n",
       "      <td>23.906944</td>\n",
       "      <td>67.0</td>\n",
       "      <td>49.0</td>\n",
       "      <td>14572.929970</td>\n",
       "      <td>2062.969996</td>\n",
       "      <td>0.0</td>\n",
       "      <td>1.0</td>\n",
       "      <td>14.156179</td>\n",
       "      <td>217.506417</td>\n",
       "    </tr>\n",
       "  </tbody>\n",
       "</table>\n",
       "<p>3 rows × 34 columns</p>\n",
       "</div>"
      ],
      "text/plain": [
       "   user_id  ship_address_id  shipment_id  order_id     order_created_at  \\\n",
       "0    11019           171906       322307   2156687  2017-08-03 21:25:23   \n",
       "1    62278           278832       387023   3021953  2018-03-02 17:22:04   \n",
       "2   905126           468407       388943   3018198  2018-02-28 11:32:47   \n",
       "\n",
       "    order_completed_at   shipment_starts_at retailer s.order_state  \\\n",
       "0  2020-02-18 14:07:00  2020-02-20 07:00:00    METRO      complete   \n",
       "1  2020-01-03 13:09:26  2020-01-03 17:00:00    METRO      complete   \n",
       "2  2020-02-12 12:39:28  2020-02-13 11:00:00    METRO      complete   \n",
       "\n",
       "  shipment_state  ...            Wait  Wait hours  total_number_of_products  \\\n",
       "0        shipped  ... 1 days 18:01:54   18.031667                      47.0   \n",
       "1        shipped  ... 0 days 05:01:14    5.020556                      58.0   \n",
       "2        shipped  ... 0 days 23:54:25   23.906944                      67.0   \n",
       "\n",
       "   total_number_of_unique_products total_price_without_dicsount  \\\n",
       "0                             24.0                  3529.400031   \n",
       "1                             37.0                  4160.300014   \n",
       "2                             49.0                 14572.929970   \n",
       "\n",
       "   total_discount  cancelled replaced percent_of_discount average_price  \n",
       "0     1198.849987        1.0      0.0           33.967529     75.093618  \n",
       "1      445.019999        1.0      0.0           10.696825     71.729311  \n",
       "2     2062.969996        0.0      1.0           14.156179    217.506417  \n",
       "\n",
       "[3 rows x 34 columns]"
      ]
     },
     "execution_count": 30,
     "metadata": {},
     "output_type": "execute_result"
    }
   ],
   "source": [
    "ships_final.head(3)"
   ]
  },
  {
   "cell_type": "code",
   "execution_count": 31,
   "metadata": {},
   "outputs": [],
   "source": [
    "# Колонка чтобы соединить с train\n",
    "ships_final[\"order_completed_at_month\"] = ships_final[\"order_completed_at\"].apply(lambda x: x[:4+1+2])"
   ]
  },
  {
   "cell_type": "code",
   "execution_count": 32,
   "metadata": {},
   "outputs": [],
   "source": [
    "ships_final['order_completed_at_month_month'] = ships_final[\"order_completed_at_month\"].apply(lambda x: int(x[5:7]))"
   ]
  },
  {
   "cell_type": "code",
   "execution_count": 33,
   "metadata": {},
   "outputs": [],
   "source": [
    "# Есть ли у человека день рождения в следующем месяце\n",
    "ships_final['birthday_next_month'] = 0\n",
    "ships_final['birthday_next_month'][ships_final['birthday_month'] == ships_final['order_completed_at_month_month']\n",
    "                                   + 1] = 1"
   ]
  },
  {
   "cell_type": "code",
   "execution_count": 34,
   "metadata": {},
   "outputs": [],
   "source": [
    "ships_final['app'] = 0\n",
    "ships_final['app'][ships_final['platform'] == 'app'] = 1"
   ]
  },
  {
   "cell_type": "code",
   "execution_count": 35,
   "metadata": {},
   "outputs": [],
   "source": [
    "ships_final['canceled_order'] = 0\n",
    "ships_final['canceled_order'][ships_final['s.order_state'] == 'canceled'] = 1"
   ]
  },
  {
   "cell_type": "code",
   "execution_count": 36,
   "metadata": {},
   "outputs": [],
   "source": [
    "ships_final['gender_float'] = np.nan\n",
    "ships_final['gender_float'][ships_final['gender'] == 'female'] = 0\n",
    "ships_final['gender_float'][ships_final['gender'] == 'male'] = 1"
   ]
  },
  {
   "cell_type": "code",
   "execution_count": 37,
   "metadata": {},
   "outputs": [],
   "source": [
    "ships_final_address = ships_final.merge(address, how = 'left', left_on='ship_address_id', right_on = 'id')"
   ]
  },
  {
   "cell_type": "markdown",
   "metadata": {},
   "source": [
    "### Messages"
   ]
  },
  {
   "cell_type": "code",
   "execution_count": 38,
   "metadata": {},
   "outputs": [],
   "source": [
    "messages = pd.read_csv('messages.csv')\n",
    "actions = pd.read_csv('actions.csv')"
   ]
  },
  {
   "cell_type": "code",
   "execution_count": 39,
   "metadata": {},
   "outputs": [
    {
     "data": {
      "text/html": [
       "<div>\n",
       "<style scoped>\n",
       "    .dataframe tbody tr th:only-of-type {\n",
       "        vertical-align: middle;\n",
       "    }\n",
       "\n",
       "    .dataframe tbody tr th {\n",
       "        vertical-align: top;\n",
       "    }\n",
       "\n",
       "    .dataframe thead th {\n",
       "        text-align: right;\n",
       "    }\n",
       "</style>\n",
       "<table border=\"1\" class=\"dataframe\">\n",
       "  <thead>\n",
       "    <tr style=\"text-align: right;\">\n",
       "      <th></th>\n",
       "      <th>sent</th>\n",
       "      <th>action_id</th>\n",
       "      <th>user_id</th>\n",
       "    </tr>\n",
       "  </thead>\n",
       "  <tbody>\n",
       "    <tr>\n",
       "      <th>0</th>\n",
       "      <td>1.588847e+09</td>\n",
       "      <td>1512.0</td>\n",
       "      <td>1775692</td>\n",
       "    </tr>\n",
       "    <tr>\n",
       "      <th>1</th>\n",
       "      <td>1.588847e+09</td>\n",
       "      <td>1512.0</td>\n",
       "      <td>1775687</td>\n",
       "    </tr>\n",
       "    <tr>\n",
       "      <th>2</th>\n",
       "      <td>1.588847e+09</td>\n",
       "      <td>1512.0</td>\n",
       "      <td>1775684</td>\n",
       "    </tr>\n",
       "  </tbody>\n",
       "</table>\n",
       "</div>"
      ],
      "text/plain": [
       "           sent  action_id  user_id\n",
       "0  1.588847e+09     1512.0  1775692\n",
       "1  1.588847e+09     1512.0  1775687\n",
       "2  1.588847e+09     1512.0  1775684"
      ]
     },
     "execution_count": 39,
     "metadata": {},
     "output_type": "execute_result"
    }
   ],
   "source": [
    "messages.head(3)"
   ]
  },
  {
   "cell_type": "code",
   "execution_count": 40,
   "metadata": {},
   "outputs": [
    {
     "data": {
      "text/html": [
       "<div>\n",
       "<style scoped>\n",
       "    .dataframe tbody tr th:only-of-type {\n",
       "        vertical-align: middle;\n",
       "    }\n",
       "\n",
       "    .dataframe tbody tr th {\n",
       "        vertical-align: top;\n",
       "    }\n",
       "\n",
       "    .dataframe thead th {\n",
       "        text-align: right;\n",
       "    }\n",
       "</style>\n",
       "<table border=\"1\" class=\"dataframe\">\n",
       "  <thead>\n",
       "    <tr style=\"text-align: right;\">\n",
       "      <th></th>\n",
       "      <th>id</th>\n",
       "      <th>subject</th>\n",
       "      <th>body</th>\n",
       "      <th>type</th>\n",
       "    </tr>\n",
       "  </thead>\n",
       "  <tbody>\n",
       "    <tr>\n",
       "      <th>0</th>\n",
       "      <td>239</td>\n",
       "      <td>NaN</td>\n",
       "      <td>NaN</td>\n",
       "      <td>push</td>\n",
       "    </tr>\n",
       "    <tr>\n",
       "      <th>1</th>\n",
       "      <td>77</td>\n",
       "      <td>NaN</td>\n",
       "      <td>NaN</td>\n",
       "      <td>push</td>\n",
       "    </tr>\n",
       "    <tr>\n",
       "      <th>2</th>\n",
       "      <td>213</td>\n",
       "      <td>Бесплатно доставим вам первый заказ👍</td>\n",
       "      <td>Оформляйте скорее, доставим в удобное время!</td>\n",
       "      <td>push</td>\n",
       "    </tr>\n",
       "  </tbody>\n",
       "</table>\n",
       "</div>"
      ],
      "text/plain": [
       "    id                               subject  \\\n",
       "0  239                                   NaN   \n",
       "1   77                                   NaN   \n",
       "2  213  Бесплатно доставим вам первый заказ👍   \n",
       "\n",
       "                                           body  type  \n",
       "0                                           NaN  push  \n",
       "1                                           NaN  push  \n",
       "2  Оформляйте скорее, доставим в удобное время!  push  "
      ]
     },
     "execution_count": 40,
     "metadata": {},
     "output_type": "execute_result"
    }
   ],
   "source": [
    "actions.head(3)"
   ]
  },
  {
   "cell_type": "code",
   "execution_count": 41,
   "metadata": {},
   "outputs": [],
   "source": [
    "actions['full_body'] = 0\n",
    "actions['full_body'][actions['body'].isna() == False] = 1"
   ]
  },
  {
   "cell_type": "code",
   "execution_count": 42,
   "metadata": {},
   "outputs": [],
   "source": [
    "del actions['subject']\n",
    "del actions['body']\n",
    "del actions['type']"
   ]
  },
  {
   "cell_type": "code",
   "execution_count": 43,
   "metadata": {},
   "outputs": [],
   "source": [
    "messages_act = messages.merge(actions, how = 'left', left_on = 'action_id', right_on = 'id')"
   ]
  },
  {
   "cell_type": "code",
   "execution_count": 44,
   "metadata": {},
   "outputs": [
    {
     "data": {
      "text/plain": [
       "0.603777585429823"
      ]
     },
     "execution_count": 44,
     "metadata": {},
     "output_type": "execute_result"
    }
   ],
   "source": [
    "sum(messages_act['full_body'])/len(messages_act['full_body'])"
   ]
  },
  {
   "cell_type": "code",
   "execution_count": 45,
   "metadata": {},
   "outputs": [],
   "source": [
    "messages_act['sent'] = messages_act['sent'].apply(lambda x: datetime.fromtimestamp(x).strftime(\"%Y-%m\"))"
   ]
  },
  {
   "cell_type": "code",
   "execution_count": 46,
   "metadata": {},
   "outputs": [],
   "source": [
    "messages_act = messages_act.drop_duplicates(['sent', 'user_id'])"
   ]
  },
  {
   "cell_type": "code",
   "execution_count": 47,
   "metadata": {},
   "outputs": [],
   "source": [
    "messages_act_full = messages_act[messages_act['full_body'] == 1]"
   ]
  },
  {
   "cell_type": "code",
   "execution_count": 48,
   "metadata": {},
   "outputs": [],
   "source": [
    "ships_final_address_mess = ships_final_address.merge(messages_act_full, how = 'left', left_on=['user_id',\n",
    "                                    'order_completed_at_month'], right_on = ['user_id', 'sent'])"
   ]
  },
  {
   "cell_type": "code",
   "execution_count": 51,
   "metadata": {},
   "outputs": [],
   "source": [
    "ships_final_address_mess['full_body'] = ships_final_address_mess['full_body'].fillna(0)"
   ]
  },
  {
   "cell_type": "code",
   "execution_count": null,
   "metadata": {},
   "outputs": [],
   "source": [
    "sum(ships_final_address_mess['full_body'])/len(ships_final_address_mess['full_body'])"
   ]
  },
  {
   "cell_type": "code",
   "execution_count": null,
   "metadata": {},
   "outputs": [],
   "source": []
  },
  {
   "cell_type": "code",
   "execution_count": null,
   "metadata": {},
   "outputs": [],
   "source": []
  },
  {
   "cell_type": "code",
   "execution_count": null,
   "metadata": {},
   "outputs": [],
   "source": []
  },
  {
   "cell_type": "code",
   "execution_count": null,
   "metadata": {},
   "outputs": [],
   "source": []
  },
  {
   "cell_type": "code",
   "execution_count": null,
   "metadata": {},
   "outputs": [],
   "source": []
  },
  {
   "cell_type": "code",
   "execution_count": 55,
   "metadata": {},
   "outputs": [],
   "source": [
    "ships_final_address_agg = ships_final_address_mess.groupby([\"phone_id\", \"order_completed_at_month\"]).agg({\n",
    "    \"shipment_id\" : \"count\",\n",
    "    \"canceled_order\" : \"sum\", \n",
    "    \"promo_total\" : \"sum\",\n",
    "    \"total_cost\" : \"sum\",\n",
    "    \"rate\": \"min\",\n",
    "    \"promo_total\" : \"sum\",\n",
    "    \"total_weight\": \"mean\",\n",
    "    \"app\" : \"sum\", #\n",
    "    \"gender_float\" : \"first\",\n",
    "    \"age\" : \"first\",\n",
    "    \"Wait hours\": \"mean\",\n",
    "    \"total_number_of_products\" : \"sum\",\n",
    "    \"total_number_of_unique_products\" : \"sum\",\n",
    "    \"total_price_without_dicsount\" : \"sum\",\n",
    "    \"total_discount\": \"sum\",\n",
    "    \"cancelled\": \"sum\",\n",
    "    \"replaced\" : \"sum\",\n",
    "    \"percent_of_discount\" : \"mean\",\n",
    "    \"average_price\" : \"mean\",\n",
    "    \"birthday_next_month\" : \"first\",\n",
    "    \"full_body\" : \"first\"\n",
    "}).reset_index()"
   ]
  },
  {
   "cell_type": "code",
   "execution_count": 56,
   "metadata": {},
   "outputs": [],
   "source": [
    "# процент отмененных заказов\n",
    "ships_final_address_agg['percent_cancelled_orders'] = ships_final_address_agg['canceled_order'\n",
    "                                                            ]/ships_final_address_agg['shipment_id']*100"
   ]
  },
  {
   "cell_type": "code",
   "execution_count": 57,
   "metadata": {},
   "outputs": [],
   "source": [
    "# Если человек пользовался приложением хотя бы 1 раз, то пишем, что он пользуется приложением\n",
    "ships_final_address_agg['app'][ships_final_address_agg['app'] > 0] = 1"
   ]
  },
  {
   "cell_type": "code",
   "execution_count": 58,
   "metadata": {},
   "outputs": [],
   "source": [
    "# Средние затраты\n",
    "ships_final_address_agg['mean_cost'] = ships_final_address_agg['total_cost']/ships_final_address_agg['shipment_id']"
   ]
  },
  {
   "cell_type": "code",
   "execution_count": 59,
   "metadata": {},
   "outputs": [
    {
     "data": {
      "text/plain": [
       "(1155789, 24)"
      ]
     },
     "execution_count": 59,
     "metadata": {},
     "output_type": "execute_result"
    }
   ],
   "source": [
    "ships_final_address_agg.shape"
   ]
  },
  {
   "cell_type": "code",
   "execution_count": 60,
   "metadata": {},
   "outputs": [
    {
     "data": {
      "text/html": [
       "<div>\n",
       "<style scoped>\n",
       "    .dataframe tbody tr th:only-of-type {\n",
       "        vertical-align: middle;\n",
       "    }\n",
       "\n",
       "    .dataframe tbody tr th {\n",
       "        vertical-align: top;\n",
       "    }\n",
       "\n",
       "    .dataframe thead th {\n",
       "        text-align: right;\n",
       "    }\n",
       "</style>\n",
       "<table border=\"1\" class=\"dataframe\">\n",
       "  <thead>\n",
       "    <tr style=\"text-align: right;\">\n",
       "      <th></th>\n",
       "      <th>phone_id</th>\n",
       "      <th>order_completed_at_month</th>\n",
       "      <th>shipment_id</th>\n",
       "      <th>canceled_order</th>\n",
       "      <th>promo_total</th>\n",
       "      <th>total_cost</th>\n",
       "      <th>rate</th>\n",
       "      <th>total_weight</th>\n",
       "      <th>app</th>\n",
       "      <th>gender_float</th>\n",
       "      <th>...</th>\n",
       "      <th>total_price_without_dicsount</th>\n",
       "      <th>total_discount</th>\n",
       "      <th>cancelled</th>\n",
       "      <th>replaced</th>\n",
       "      <th>percent_of_discount</th>\n",
       "      <th>average_price</th>\n",
       "      <th>birthday_next_month</th>\n",
       "      <th>full_body</th>\n",
       "      <th>percent_cancelled_orders</th>\n",
       "      <th>mean_cost</th>\n",
       "    </tr>\n",
       "  </thead>\n",
       "  <tbody>\n",
       "    <tr>\n",
       "      <th>0</th>\n",
       "      <td>2</td>\n",
       "      <td>2020-01</td>\n",
       "      <td>1</td>\n",
       "      <td>0</td>\n",
       "      <td>0.0</td>\n",
       "      <td>98.0</td>\n",
       "      <td>0</td>\n",
       "      <td>22024.0</td>\n",
       "      <td>0</td>\n",
       "      <td>NaN</td>\n",
       "      <td>...</td>\n",
       "      <td>4165.310007</td>\n",
       "      <td>1567.479999</td>\n",
       "      <td>1.0</td>\n",
       "      <td>0.0</td>\n",
       "      <td>37.631773</td>\n",
       "      <td>109.613421</td>\n",
       "      <td>0</td>\n",
       "      <td>1.0</td>\n",
       "      <td>0.0</td>\n",
       "      <td>98.0</td>\n",
       "    </tr>\n",
       "    <tr>\n",
       "      <th>1</th>\n",
       "      <td>2</td>\n",
       "      <td>2020-02</td>\n",
       "      <td>2</td>\n",
       "      <td>0</td>\n",
       "      <td>0.0</td>\n",
       "      <td>366.0</td>\n",
       "      <td>0</td>\n",
       "      <td>33973.0</td>\n",
       "      <td>0</td>\n",
       "      <td>NaN</td>\n",
       "      <td>...</td>\n",
       "      <td>6698.850044</td>\n",
       "      <td>1608.159993</td>\n",
       "      <td>1.0</td>\n",
       "      <td>2.0</td>\n",
       "      <td>24.042164</td>\n",
       "      <td>76.205223</td>\n",
       "      <td>0</td>\n",
       "      <td>1.0</td>\n",
       "      <td>0.0</td>\n",
       "      <td>183.0</td>\n",
       "    </tr>\n",
       "    <tr>\n",
       "      <th>2</th>\n",
       "      <td>2</td>\n",
       "      <td>2020-03</td>\n",
       "      <td>1</td>\n",
       "      <td>0</td>\n",
       "      <td>0.0</td>\n",
       "      <td>233.0</td>\n",
       "      <td>0</td>\n",
       "      <td>34195.0</td>\n",
       "      <td>0</td>\n",
       "      <td>NaN</td>\n",
       "      <td>...</td>\n",
       "      <td>4976.890036</td>\n",
       "      <td>1168.499990</td>\n",
       "      <td>0.0</td>\n",
       "      <td>2.0</td>\n",
       "      <td>23.478517</td>\n",
       "      <td>95.709424</td>\n",
       "      <td>0</td>\n",
       "      <td>0.0</td>\n",
       "      <td>0.0</td>\n",
       "      <td>233.0</td>\n",
       "    </tr>\n",
       "    <tr>\n",
       "      <th>3</th>\n",
       "      <td>2</td>\n",
       "      <td>2020-05</td>\n",
       "      <td>1</td>\n",
       "      <td>0</td>\n",
       "      <td>0.0</td>\n",
       "      <td>248.0</td>\n",
       "      <td>0</td>\n",
       "      <td>40777.0</td>\n",
       "      <td>0</td>\n",
       "      <td>NaN</td>\n",
       "      <td>...</td>\n",
       "      <td>5401.380020</td>\n",
       "      <td>720.089998</td>\n",
       "      <td>3.0</td>\n",
       "      <td>5.0</td>\n",
       "      <td>13.331593</td>\n",
       "      <td>100.025556</td>\n",
       "      <td>0</td>\n",
       "      <td>0.0</td>\n",
       "      <td>0.0</td>\n",
       "      <td>248.0</td>\n",
       "    </tr>\n",
       "    <tr>\n",
       "      <th>4</th>\n",
       "      <td>3</td>\n",
       "      <td>2020-03</td>\n",
       "      <td>2</td>\n",
       "      <td>0</td>\n",
       "      <td>0.0</td>\n",
       "      <td>0.0</td>\n",
       "      <td>5</td>\n",
       "      <td>15632.5</td>\n",
       "      <td>0</td>\n",
       "      <td>NaN</td>\n",
       "      <td>...</td>\n",
       "      <td>7900.390059</td>\n",
       "      <td>4795.750013</td>\n",
       "      <td>5.0</td>\n",
       "      <td>1.0</td>\n",
       "      <td>63.839549</td>\n",
       "      <td>49.740509</td>\n",
       "      <td>0</td>\n",
       "      <td>0.0</td>\n",
       "      <td>0.0</td>\n",
       "      <td>0.0</td>\n",
       "    </tr>\n",
       "  </tbody>\n",
       "</table>\n",
       "<p>5 rows × 24 columns</p>\n",
       "</div>"
      ],
      "text/plain": [
       "   phone_id order_completed_at_month  shipment_id  canceled_order  \\\n",
       "0         2                  2020-01            1               0   \n",
       "1         2                  2020-02            2               0   \n",
       "2         2                  2020-03            1               0   \n",
       "3         2                  2020-05            1               0   \n",
       "4         3                  2020-03            2               0   \n",
       "\n",
       "   promo_total  total_cost  rate  total_weight  app  gender_float  ...  \\\n",
       "0          0.0        98.0     0       22024.0    0           NaN  ...   \n",
       "1          0.0       366.0     0       33973.0    0           NaN  ...   \n",
       "2          0.0       233.0     0       34195.0    0           NaN  ...   \n",
       "3          0.0       248.0     0       40777.0    0           NaN  ...   \n",
       "4          0.0         0.0     5       15632.5    0           NaN  ...   \n",
       "\n",
       "   total_price_without_dicsount  total_discount  cancelled  replaced  \\\n",
       "0                   4165.310007     1567.479999        1.0       0.0   \n",
       "1                   6698.850044     1608.159993        1.0       2.0   \n",
       "2                   4976.890036     1168.499990        0.0       2.0   \n",
       "3                   5401.380020      720.089998        3.0       5.0   \n",
       "4                   7900.390059     4795.750013        5.0       1.0   \n",
       "\n",
       "   percent_of_discount  average_price  birthday_next_month  full_body  \\\n",
       "0            37.631773     109.613421                    0        1.0   \n",
       "1            24.042164      76.205223                    0        1.0   \n",
       "2            23.478517      95.709424                    0        0.0   \n",
       "3            13.331593     100.025556                    0        0.0   \n",
       "4            63.839549      49.740509                    0        0.0   \n",
       "\n",
       "   percent_cancelled_orders  mean_cost  \n",
       "0                       0.0       98.0  \n",
       "1                       0.0      183.0  \n",
       "2                       0.0      233.0  \n",
       "3                       0.0      248.0  \n",
       "4                       0.0        0.0  \n",
       "\n",
       "[5 rows x 24 columns]"
      ]
     },
     "execution_count": 60,
     "metadata": {},
     "output_type": "execute_result"
    }
   ],
   "source": [
    "ships_final_address_agg.head()"
   ]
  },
  {
   "cell_type": "code",
   "execution_count": 61,
   "metadata": {},
   "outputs": [
    {
     "name": "stdout",
     "output_type": "stream",
     "text": [
      "<class 'pandas.core.frame.DataFrame'>\n",
      "RangeIndex: 1155789 entries, 0 to 1155788\n",
      "Data columns (total 24 columns):\n",
      " #   Column                           Non-Null Count    Dtype  \n",
      "---  ------                           --------------    -----  \n",
      " 0   phone_id                         1155789 non-null  int64  \n",
      " 1   order_completed_at_month         1155789 non-null  object \n",
      " 2   shipment_id                      1155789 non-null  int64  \n",
      " 3   canceled_order                   1155789 non-null  int64  \n",
      " 4   promo_total                      1155789 non-null  float64\n",
      " 5   total_cost                       1155789 non-null  float64\n",
      " 6   rate                             1155789 non-null  int64  \n",
      " 7   total_weight                     1155789 non-null  float64\n",
      " 8   app                              1155789 non-null  int64  \n",
      " 9   gender_float                     41377 non-null    float64\n",
      " 10  age                              41068 non-null    float64\n",
      " 11  Wait hours                       1117836 non-null  float64\n",
      " 12  total_number_of_products         1155789 non-null  float64\n",
      " 13  total_number_of_unique_products  1155789 non-null  float64\n",
      " 14  total_price_without_dicsount     1155789 non-null  float64\n",
      " 15  total_discount                   1155789 non-null  float64\n",
      " 16  cancelled                        1155789 non-null  float64\n",
      " 17  replaced                         1155789 non-null  float64\n",
      " 18  percent_of_discount              1155442 non-null  float64\n",
      " 19  average_price                    1155514 non-null  float64\n",
      " 20  birthday_next_month              1155789 non-null  int64  \n",
      " 21  full_body                        1155789 non-null  float64\n",
      " 22  percent_cancelled_orders         1155789 non-null  float64\n",
      " 23  mean_cost                        1155789 non-null  float64\n",
      "dtypes: float64(17), int64(6), object(1)\n",
      "memory usage: 211.6+ MB\n"
     ]
    }
   ],
   "source": [
    "ships_final_address_agg.info()"
   ]
  },
  {
   "cell_type": "code",
   "execution_count": 62,
   "metadata": {},
   "outputs": [],
   "source": [
    "ships_final_address_agg[['Wait hours', 'average_price', 'percent_of_discount'\n",
    "                        ]] = ships_final_address_agg[['Wait hours', 'average_price', 'percent_of_discount'\n",
    "                        ]].fillna(ships_final_address_agg[['Wait hours', 'average_price', 'percent_of_discount'\n",
    "                                                          ]].mean())"
   ]
  },
  {
   "cell_type": "code",
   "execution_count": 48,
   "metadata": {},
   "outputs": [],
   "source": [
    "# ships_final_address_agg.drop_duplicates(['phone_id', 'order_completed_at_month'])"
   ]
  },
  {
   "cell_type": "markdown",
   "metadata": {},
   "source": [
    "### Merge с train"
   ]
  },
  {
   "cell_type": "code",
   "execution_count": 63,
   "metadata": {},
   "outputs": [],
   "source": [
    "final_train = ships_final_address_agg.merge(train, how = 'inner',\n",
    "                                                        left_on=['phone_id', 'order_completed_at_month'],\n",
    "                                            right_on = ['phone_id', 'order_completed_at'])"
   ]
  },
  {
   "cell_type": "code",
   "execution_count": 64,
   "metadata": {},
   "outputs": [],
   "source": [
    "# ships_final_address_agg.to_csv('ships_final_address_agg_mess.csv', index=None, sep = ',')"
   ]
  },
  {
   "cell_type": "code",
   "execution_count": 19,
   "metadata": {},
   "outputs": [],
   "source": [
    "# final_train.to_csv('final_train_dataset.csv', index=None, sep = ',')"
   ]
  },
  {
   "cell_type": "markdown",
   "metadata": {},
   "source": [
    "# Тренируем модель"
   ]
  },
  {
   "cell_type": "code",
   "execution_count": 4,
   "metadata": {},
   "outputs": [],
   "source": [
    "# final_train = pd.read_csv('final_train_dataset.csv', sep = ',')\n",
    "# ships_final_address_agg = pd.read_csv('ships_final_address_agg.csv', sep = ',')"
   ]
  },
  {
   "cell_type": "code",
   "execution_count": 65,
   "metadata": {},
   "outputs": [
    {
     "data": {
      "text/html": [
       "<div>\n",
       "<style scoped>\n",
       "    .dataframe tbody tr th:only-of-type {\n",
       "        vertical-align: middle;\n",
       "    }\n",
       "\n",
       "    .dataframe tbody tr th {\n",
       "        vertical-align: top;\n",
       "    }\n",
       "\n",
       "    .dataframe thead th {\n",
       "        text-align: right;\n",
       "    }\n",
       "</style>\n",
       "<table border=\"1\" class=\"dataframe\">\n",
       "  <thead>\n",
       "    <tr style=\"text-align: right;\">\n",
       "      <th></th>\n",
       "      <th>phone_id</th>\n",
       "      <th>order_completed_at_month</th>\n",
       "      <th>shipment_id</th>\n",
       "      <th>canceled_order</th>\n",
       "      <th>promo_total</th>\n",
       "      <th>total_cost</th>\n",
       "      <th>rate</th>\n",
       "      <th>total_weight</th>\n",
       "      <th>app</th>\n",
       "      <th>gender_float</th>\n",
       "      <th>...</th>\n",
       "      <th>cancelled</th>\n",
       "      <th>replaced</th>\n",
       "      <th>percent_of_discount</th>\n",
       "      <th>average_price</th>\n",
       "      <th>birthday_next_month</th>\n",
       "      <th>full_body</th>\n",
       "      <th>percent_cancelled_orders</th>\n",
       "      <th>mean_cost</th>\n",
       "      <th>order_completed_at</th>\n",
       "      <th>target</th>\n",
       "    </tr>\n",
       "  </thead>\n",
       "  <tbody>\n",
       "    <tr>\n",
       "      <th>0</th>\n",
       "      <td>2</td>\n",
       "      <td>2020-01</td>\n",
       "      <td>1</td>\n",
       "      <td>0</td>\n",
       "      <td>0.0</td>\n",
       "      <td>98.0</td>\n",
       "      <td>0</td>\n",
       "      <td>22024.0</td>\n",
       "      <td>0</td>\n",
       "      <td>NaN</td>\n",
       "      <td>...</td>\n",
       "      <td>1.0</td>\n",
       "      <td>0.0</td>\n",
       "      <td>37.631773</td>\n",
       "      <td>109.613421</td>\n",
       "      <td>0</td>\n",
       "      <td>1.0</td>\n",
       "      <td>0.0</td>\n",
       "      <td>98.0</td>\n",
       "      <td>2020-01</td>\n",
       "      <td>1.0</td>\n",
       "    </tr>\n",
       "    <tr>\n",
       "      <th>1</th>\n",
       "      <td>2</td>\n",
       "      <td>2020-02</td>\n",
       "      <td>2</td>\n",
       "      <td>0</td>\n",
       "      <td>0.0</td>\n",
       "      <td>366.0</td>\n",
       "      <td>0</td>\n",
       "      <td>33973.0</td>\n",
       "      <td>0</td>\n",
       "      <td>NaN</td>\n",
       "      <td>...</td>\n",
       "      <td>1.0</td>\n",
       "      <td>2.0</td>\n",
       "      <td>24.042164</td>\n",
       "      <td>76.205223</td>\n",
       "      <td>0</td>\n",
       "      <td>1.0</td>\n",
       "      <td>0.0</td>\n",
       "      <td>183.0</td>\n",
       "      <td>2020-02</td>\n",
       "      <td>1.0</td>\n",
       "    </tr>\n",
       "    <tr>\n",
       "      <th>2</th>\n",
       "      <td>2</td>\n",
       "      <td>2020-03</td>\n",
       "      <td>1</td>\n",
       "      <td>0</td>\n",
       "      <td>0.0</td>\n",
       "      <td>233.0</td>\n",
       "      <td>0</td>\n",
       "      <td>34195.0</td>\n",
       "      <td>0</td>\n",
       "      <td>NaN</td>\n",
       "      <td>...</td>\n",
       "      <td>0.0</td>\n",
       "      <td>2.0</td>\n",
       "      <td>23.478517</td>\n",
       "      <td>95.709424</td>\n",
       "      <td>0</td>\n",
       "      <td>0.0</td>\n",
       "      <td>0.0</td>\n",
       "      <td>233.0</td>\n",
       "      <td>2020-03</td>\n",
       "      <td>0.0</td>\n",
       "    </tr>\n",
       "  </tbody>\n",
       "</table>\n",
       "<p>3 rows × 26 columns</p>\n",
       "</div>"
      ],
      "text/plain": [
       "   phone_id order_completed_at_month  shipment_id  canceled_order  \\\n",
       "0         2                  2020-01            1               0   \n",
       "1         2                  2020-02            2               0   \n",
       "2         2                  2020-03            1               0   \n",
       "\n",
       "   promo_total  total_cost  rate  total_weight  app  gender_float  ...  \\\n",
       "0          0.0        98.0     0       22024.0    0           NaN  ...   \n",
       "1          0.0       366.0     0       33973.0    0           NaN  ...   \n",
       "2          0.0       233.0     0       34195.0    0           NaN  ...   \n",
       "\n",
       "   cancelled  replaced  percent_of_discount  average_price  \\\n",
       "0        1.0       0.0            37.631773     109.613421   \n",
       "1        1.0       2.0            24.042164      76.205223   \n",
       "2        0.0       2.0            23.478517      95.709424   \n",
       "\n",
       "   birthday_next_month  full_body  percent_cancelled_orders  mean_cost  \\\n",
       "0                    0        1.0                       0.0       98.0   \n",
       "1                    0        1.0                       0.0      183.0   \n",
       "2                    0        0.0                       0.0      233.0   \n",
       "\n",
       "   order_completed_at  target  \n",
       "0             2020-01     1.0  \n",
       "1             2020-02     1.0  \n",
       "2             2020-03     0.0  \n",
       "\n",
       "[3 rows x 26 columns]"
      ]
     },
     "execution_count": 65,
     "metadata": {},
     "output_type": "execute_result"
    }
   ],
   "source": [
    "final_train.head(3)"
   ]
  },
  {
   "cell_type": "code",
   "execution_count": 66,
   "metadata": {},
   "outputs": [
    {
     "data": {
      "text/plain": [
       "(692773, 26)"
      ]
     },
     "execution_count": 66,
     "metadata": {},
     "output_type": "execute_result"
    }
   ],
   "source": [
    "final_train.shape"
   ]
  },
  {
   "cell_type": "code",
   "execution_count": 20,
   "metadata": {},
   "outputs": [],
   "source": [
    "columns = list(final_train.columns)\n",
    "# x_columns = columns[2:-2]\n",
    "x_columns = ['promo_total', 'total_cost', 'total_weight', \n",
    "             'Wait hours', 'total_number_of_products', 'total_number_of_unique_products', \n",
    "             'total_price_without_dicsount', 'total_discount', 'percent_of_discount', \n",
    "             'average_price', 'mean_cost', 'full_body']"
   ]
  },
  {
   "cell_type": "code",
   "execution_count": 67,
   "metadata": {},
   "outputs": [],
   "source": [
    "from sklearn.model_selection import TimeSeriesSplit\n",
    "\n",
    "tss = TimeSeriesSplit(n_splits=3)"
   ]
  },
  {
   "cell_type": "code",
   "execution_count": 68,
   "metadata": {},
   "outputs": [],
   "source": [
    "from tpot import TPOTClassifier\n",
    "\n",
    "# Make tpot pipeline\n",
    "tpot_pipeline = TPOTClassifier(generations=10, population_size=10,\n",
    "cv=tss, scoring='f1',\n",
    "n_jobs=-1, verbosity=2,\n",
    "random_state=50)"
   ]
  },
  {
   "cell_type": "code",
   "execution_count": 144,
   "metadata": {},
   "outputs": [],
   "source": [
    "\n",
    "if True:\n",
    "    x_columns = [ 'promo_total', 'total_cost', 'total_weight', 'percent_cancelled_orders','shipment_id',\n",
    "                 'total_number_of_products', 'total_number_of_unique_products', 'total_price_without_dicsount',\n",
    "                 'total_discount', 'cancelled', 'replaced', 'mean_cost'\n",
    "                  ,'Wait hours', 'average_price', 'percent_of_discount', 'full_body',\n",
    "            'app', 'rate', 'birthday_next_month', 'canceled_order']\n"
   ]
  },
  {
   "cell_type": "code",
   "execution_count": 145,
   "metadata": {},
   "outputs": [],
   "source": [
    "train_ = final_train[final_train['order_completed_at']<=\"2020-06\"]\n",
    "test_ = final_train[final_train['order_completed_at']==\"2020-07\"]"
   ]
  },
  {
   "cell_type": "code",
   "execution_count": 146,
   "metadata": {},
   "outputs": [],
   "source": [
    "y_train_ = train_['target']\n",
    "y_test_ = test_['target']\n",
    "x_train_ = train_[x_columns]\n",
    "x_test_ = test_[x_columns]"
   ]
  },
  {
   "cell_type": "code",
   "execution_count": 72,
   "metadata": {},
   "outputs": [],
   "source": [
    "from sklearn.ensemble import ExtraTreesClassifier"
   ]
  },
  {
   "cell_type": "code",
   "execution_count": 73,
   "metadata": {},
   "outputs": [
    {
     "data": {
      "text/plain": [
       "ExtraTreesClassifier(bootstrap=False, ccp_alpha=0.0, class_weight=None,\n",
       "                     criterion='entropy', max_depth=None, max_features=0.1,\n",
       "                     max_leaf_nodes=None, max_samples=None,\n",
       "                     min_impurity_decrease=0.0, min_impurity_split=None,\n",
       "                     min_samples_leaf=5, min_samples_split=8,\n",
       "                     min_weight_fraction_leaf=0.0, n_estimators=100, n_jobs=-1,\n",
       "                     oob_score=False, random_state=50, verbose=0,\n",
       "                     warm_start=False)"
      ]
     },
     "execution_count": 73,
     "metadata": {},
     "output_type": "execute_result"
    }
   ],
   "source": [
    "model = ExtraTreesClassifier(bootstrap=False,\n",
    "criterion=\"entropy\",\n",
    "max_features=0.1,\n",
    "min_samples_leaf=5,\n",
    "min_samples_split=8,\n",
    "n_estimators=100,\n",
    "random_state = 50,\n",
    "n_jobs = -1)\n",
    "\n",
    "model.fit(x_train_, y_train_)"
   ]
  },
  {
   "cell_type": "code",
   "execution_count": 64,
   "metadata": {},
   "outputs": [],
   "source": [
    "# tpot_pipeline.fit(x_train_, y_train_)"
   ]
  },
  {
   "cell_type": "code",
   "execution_count": 74,
   "metadata": {},
   "outputs": [],
   "source": [
    "from sklearn.preprocessing import StandardScaler\n",
    "from sklearn.svm import SVC\n",
    "from sklearn.neighbors import KNeighborsClassifier\n",
    "from lightgbm import LGBMClassifier, plot_importance\n",
    "from xgboost import XGBClassifier\n",
    "from sklearn.linear_model import LogisticRegression\n",
    "from sklearn.ensemble import RandomForestClassifier\n",
    "from sklearn.metrics import f1_score"
   ]
  },
  {
   "cell_type": "code",
   "execution_count": 147,
   "metadata": {},
   "outputs": [
    {
     "data": {
      "text/plain": [
       "0.77971414826425"
      ]
     },
     "execution_count": 147,
     "metadata": {},
     "output_type": "execute_result"
    }
   ],
   "source": [
    "scaler = StandardScaler()\n",
    "xx_train_ = scaler.fit_transform(x_train_)\n",
    "\n",
    "model = LogisticRegression(C=5, class_weight=None, dual=False, fit_intercept=True,\n",
    "                                intercept_scaling=1, max_iter=250,n_jobs=None,penalty='l2',\n",
    "                                random_state=42, solver='lbfgs',tol=1e-05, verbose=0, warm_start=False)\n",
    "model.fit(xx_train_, y_train_)\n",
    "\n",
    "xx_test_ = scaler.transform(x_test_)\n",
    "y_pred = model.predict(x_test_)\n",
    "f1_score(y_test_, y_pred)\n",
    "# 0.7759\n",
    "# 0.75031\n",
    "\n",
    "# 0.7812\n",
    "# 0.75786"
   ]
  },
  {
   "cell_type": "code",
   "execution_count": null,
   "metadata": {},
   "outputs": [],
   "source": [
    "# model = RandomForestClassifier(n_estimators=100, max_depth=8, random_state=42)\n",
    "\n",
    "# model.fit(x_train_,y_train_)\n",
    "# 0.7693"
   ]
  },
  {
   "cell_type": "code",
   "execution_count": 85,
   "metadata": {},
   "outputs": [
    {
     "data": {
      "text/plain": [
       "LGBMClassifier(boosting_type='gbdt', class_weight=None, colsample_bytree=1.0,\n",
       "               importance_type='split', learning_rate=0.1, max_depth=6,\n",
       "               min_child_samples=20, min_child_weight=0.001, min_split_gain=0.0,\n",
       "               n_estimators=100, n_jobs=-1, num_leaves=31, objective=None,\n",
       "               random_state=42, reg_alpha=0.0, reg_lambda=0.0, silent=True,\n",
       "               subsample=1.0, subsample_for_bin=200000, subsample_freq=0)"
      ]
     },
     "execution_count": 85,
     "metadata": {},
     "output_type": "execute_result"
    }
   ],
   "source": [
    "# model = LGBMClassifier(n_estimators=100, max_depth=6, random_state=42)\n",
    "# model.fit(x_train_,y_train_)\n",
    "# 0.7676"
   ]
  },
  {
   "cell_type": "code",
   "execution_count": 33,
   "metadata": {},
   "outputs": [
    {
     "data": {
      "text/plain": [
       "KNeighborsClassifier(algorithm='auto', leaf_size=30, metric='minkowski',\n",
       "                     metric_params=None, n_jobs=None, n_neighbors=7, p=2,\n",
       "                     weights='uniform')"
      ]
     },
     "execution_count": 33,
     "metadata": {},
     "output_type": "execute_result"
    }
   ],
   "source": [
    "# model = KNeighborsClassifier(n_neighbors=7)\n",
    "# model.fit(xx_train_, y_train_)"
   ]
  },
  {
   "cell_type": "code",
   "execution_count": 86,
   "metadata": {},
   "outputs": [],
   "source": [
    "y_pred = model.predict(x_test_)"
   ]
  },
  {
   "cell_type": "code",
   "execution_count": 87,
   "metadata": {},
   "outputs": [
    {
     "data": {
      "text/plain": [
       "0.7673481811220971"
      ]
     },
     "execution_count": 87,
     "metadata": {},
     "output_type": "execute_result"
    }
   ],
   "source": [
    "f1_score(y_test_, y_pred)"
   ]
  },
  {
   "cell_type": "code",
   "execution_count": 88,
   "metadata": {},
   "outputs": [],
   "source": [
    "# pd.DataFrame({'A': model.feature_importances_, 'B': x_columns})"
   ]
  },
  {
   "cell_type": "code",
   "execution_count": 89,
   "metadata": {},
   "outputs": [
    {
     "data": {
      "text/plain": [
       "<matplotlib.axes._subplots.AxesSubplot at 0x2d21bc510>"
      ]
     },
     "execution_count": 89,
     "metadata": {},
     "output_type": "execute_result"
    },
    {
     "data": {
      "image/png": "[encoded data removed]",
      "text/plain": [
       "<Figure size 432x288 with 1 Axes>"
      ]
     },
     "metadata": {
      "needs_background": "light"
     },
     "output_type": "display_data"
    }
   ],
   "source": [
    "plot_importance(model)"
   ]
  },
  {
   "cell_type": "code",
   "execution_count": 109,
   "metadata": {},
   "outputs": [
    {
     "data": {
      "text/plain": [
       "Counter({1.0: 449459, 0.0: 243314})"
      ]
     },
     "execution_count": 109,
     "metadata": {},
     "output_type": "execute_result"
    }
   ],
   "source": [
    "Counter(final_train['target'])"
   ]
  },
  {
   "cell_type": "markdown",
   "metadata": {},
   "source": [
    "### Все 1"
   ]
  },
  {
   "cell_type": "code",
   "execution_count": null,
   "metadata": {},
   "outputs": [],
   "source": []
  },
  {
   "cell_type": "markdown",
   "metadata": {},
   "source": [
    "## Merge c sample 1"
   ]
  },
  {
   "cell_type": "code",
   "execution_count": 128,
   "metadata": {},
   "outputs": [],
   "source": [
    "data_08 = ships_final_address_agg[ships_final_address_agg['order_completed_at_month'] == '2020-08']"
   ]
  },
  {
   "cell_type": "code",
   "execution_count": 129,
   "metadata": {},
   "outputs": [],
   "source": [
    "data_08_sample = data_08.merge(sample, how = 'inner', left_on='phone_id',\n",
    "                                            right_on = 'Id')"
   ]
  },
  {
   "cell_type": "code",
   "execution_count": 130,
   "metadata": {},
   "outputs": [],
   "source": [
    "data_08_sample['Predicted'] = model.predict(data_08_sample[x_columns]) #scaler.transform("
   ]
  },
  {
   "cell_type": "code",
   "execution_count": 131,
   "metadata": {},
   "outputs": [],
   "source": [
    "table_1 = data_08_sample[['phone_id', 'Predicted']]"
   ]
  },
  {
   "cell_type": "code",
   "execution_count": 132,
   "metadata": {},
   "outputs": [],
   "source": [
    "sample_sub = sample.merge(table_1, how = 'left', left_on = 'Id', right_on = 'phone_id')[['Id', 'Predicted_y']]"
   ]
  },
  {
   "cell_type": "code",
   "execution_count": 133,
   "metadata": {},
   "outputs": [],
   "source": [
    "sample_sub = sample_sub.fillna(0)"
   ]
  },
  {
   "cell_type": "code",
   "execution_count": 134,
   "metadata": {},
   "outputs": [],
   "source": [
    "sample_sub.rename(columns={'Predicted_y': 'Predicted'}, inplace=True)"
   ]
  },
  {
   "cell_type": "code",
   "execution_count": 135,
   "metadata": {},
   "outputs": [],
   "source": [
    "sample_sub['Predicted'] = sample_sub['Predicted'].apply(lambda x: int(x))"
   ]
  },
  {
   "cell_type": "code",
   "execution_count": 136,
   "metadata": {},
   "outputs": [],
   "source": [
    "sample_sub.to_csv('my_submission_2_day_2.csv', index=None, sep = ',')"
   ]
  },
  {
   "cell_type": "markdown",
   "metadata": {},
   "source": [
    "## Merge c sample 2"
   ]
  },
  {
   "cell_type": "code",
   "execution_count": 114,
   "metadata": {},
   "outputs": [],
   "source": [
    "data_08 = ships_final_address_agg[ships_final_address_agg['order_completed_at_month'] == '2020-08']\n",
    "data_07 = ships_final_address_agg[ships_final_address_agg['order_completed_at_month'] == '2020-07']"
   ]
  },
  {
   "cell_type": "code",
   "execution_count": 115,
   "metadata": {},
   "outputs": [],
   "source": [
    "data_08_sample = data_08.merge(sample, how = 'inner', left_on='phone_id', right_on = 'Id')"
   ]
  },
  {
   "cell_type": "code",
   "execution_count": 116,
   "metadata": {},
   "outputs": [],
   "source": [
    "Ids = set(sample['Id']) - set(data_08_sample['phone_id'])   #55397"
   ]
  },
  {
   "cell_type": "code",
   "execution_count": 117,
   "metadata": {},
   "outputs": [],
   "source": [
    "data_07_sample = data_07.merge(sample.loc[sample['Id'].isin(Ids)], how = 'inner', left_on='phone_id', right_on = 'Id')"
   ]
  },
  {
   "cell_type": "code",
   "execution_count": 118,
   "metadata": {},
   "outputs": [],
   "source": [
    "Ids = Ids - set(data_07_sample['phone_id']) #2"
   ]
  },
  {
   "cell_type": "code",
   "execution_count": 119,
   "metadata": {},
   "outputs": [
    {
     "data": {
      "text/plain": [
       "{183298, 245784}"
      ]
     },
     "execution_count": 119,
     "metadata": {},
     "output_type": "execute_result"
    }
   ],
   "source": [
    "Ids"
   ]
  },
  {
   "cell_type": "code",
   "execution_count": 120,
   "metadata": {},
   "outputs": [],
   "source": [
    "data_08_sample['Predicted'] = model.predict(data_08_sample[x_columns])\n",
    "data_07_sample['Predicted'] = model.predict(data_07_sample[x_columns])"
   ]
  },
  {
   "cell_type": "code",
   "execution_count": 121,
   "metadata": {},
   "outputs": [],
   "source": [
    "table_1 = pd.concat([data_08_sample[['phone_id', 'Predicted']],data_07_sample[['phone_id', 'Predicted']]])"
   ]
  },
  {
   "cell_type": "code",
   "execution_count": 122,
   "metadata": {},
   "outputs": [],
   "source": [
    "sample_sub = sample.merge(table_1, how = 'left', left_on = 'Id', right_on = 'phone_id')[['Id', 'Predicted_y']]"
   ]
  },
  {
   "cell_type": "code",
   "execution_count": 123,
   "metadata": {},
   "outputs": [],
   "source": [
    "sample_sub = sample_sub.fillna(0)"
   ]
  },
  {
   "cell_type": "code",
   "execution_count": 124,
   "metadata": {},
   "outputs": [],
   "source": [
    "sample_sub.rename(columns={'Predicted_y': 'Predicted'}, inplace=True)"
   ]
  },
  {
   "cell_type": "code",
   "execution_count": 125,
   "metadata": {},
   "outputs": [],
   "source": [
    "sample_sub['Predicted'] = sample_sub['Predicted'].apply(lambda x: int(x))"
   ]
  },
  {
   "cell_type": "code",
   "execution_count": 126,
   "metadata": {},
   "outputs": [],
   "source": [
    "sample_sub.to_csv('my_submission_2_day_1.csv', index=None, sep = ',')"
   ]
  },
  {
   "cell_type": "code",
   "execution_count": 127,
   "metadata": {},
   "outputs": [
    {
     "data": {
      "text/plain": [
       "0.6069363353820203"
      ]
     },
     "execution_count": 127,
     "metadata": {},
     "output_type": "execute_result"
    }
   ],
   "source": [
    "sum(sample_sub['Predicted'])/len(sample_sub['Predicted'])"
   ]
  },
  {
   "cell_type": "code",
   "execution_count": null,
   "metadata": {},
   "outputs": [],
   "source": []
  },
  {
   "cell_type": "code",
   "execution_count": null,
   "metadata": {},
   "outputs": [],
   "source": []
  },
  {
   "cell_type": "code",
   "execution_count": null,
   "metadata": {},
   "outputs": [],
   "source": []
  },
  {
   "cell_type": "code",
   "execution_count": null,
   "metadata": {},
   "outputs": [],
   "source": []
  },
  {
   "cell_type": "code",
   "execution_count": null,
   "metadata": {},
   "outputs": [],
   "source": []
  },
  {
   "cell_type": "code",
   "execution_count": null,
   "metadata": {},
   "outputs": [],
   "source": []
  },
  {
   "cell_type": "code",
   "execution_count": null,
   "metadata": {},
   "outputs": [],
   "source": []
  },
  {
   "cell_type": "code",
   "execution_count": null,
   "metadata": {},
   "outputs": [],
   "source": []
  },
  {
   "cell_type": "code",
   "execution_count": null,
   "metadata": {},
   "outputs": [],
   "source": []
  },
  {
   "cell_type": "code",
   "execution_count": 74,
   "metadata": {},
   "outputs": [],
   "source": [
    "import seaborn as sns"
   ]
  },
  {
   "cell_type": "code",
   "execution_count": 90,
   "metadata": {},
   "outputs": [],
   "source": [
    "final_train['Month'] = final_train['order_completed_at_month'].apply(lambda x: int(x[5:]))"
   ]
  },
  {
   "cell_type": "code",
   "execution_count": 162,
   "metadata": {},
   "outputs": [
    {
     "data": {
      "image/png": "[encoded data removed]",
      "text/plain": [
       "<Figure size 792x648 with 2 Axes>"
      ]
     },
     "metadata": {
      "needs_background": "light"
     },
     "output_type": "display_data"
    }
   ],
   "source": [
    "corr = final_train.corr() #[final_train['order_completed_at_month'] == '2020-07']\n",
    "mask = np.triu(np.ones_like(corr, dtype=bool))\n",
    "f, ax = plt.subplots(figsize=(11, 9))\n",
    "cmap = sns.diverging_palette(230, 20, as_cmap=True)\n",
    "sns.heatmap(corr, mask=mask, cmap=cmap, vmax=.3, center=0,\n",
    "square=True, linewidths=.5, cbar_kws={\"shrink\": .5})\n",
    "plt.show()"
   ]
  },
  {
   "cell_type": "code",
   "execution_count": 154,
   "metadata": {},
   "outputs": [
    {
     "data": {
      "text/html": [
       "<div>\n",
       "<style scoped>\n",
       "    .dataframe tbody tr th:only-of-type {\n",
       "        vertical-align: middle;\n",
       "    }\n",
       "\n",
       "    .dataframe tbody tr th {\n",
       "        vertical-align: top;\n",
       "    }\n",
       "\n",
       "    .dataframe thead th {\n",
       "        text-align: right;\n",
       "    }\n",
       "</style>\n",
       "<table border=\"1\" class=\"dataframe\">\n",
       "  <thead>\n",
       "    <tr style=\"text-align: right;\">\n",
       "      <th></th>\n",
       "      <th>phone_id</th>\n",
       "      <th>order_completed_at_month</th>\n",
       "      <th>shipment_id</th>\n",
       "      <th>canceled_order</th>\n",
       "      <th>promo_total</th>\n",
       "      <th>total_cost</th>\n",
       "      <th>rate</th>\n",
       "      <th>total_weight</th>\n",
       "      <th>app</th>\n",
       "      <th>gender_float</th>\n",
       "      <th>age</th>\n",
       "      <th>Wait hours</th>\n",
       "      <th>total_number_of_products</th>\n",
       "      <th>total_number_of_unique_products</th>\n",
       "      <th>total_price_without_dicsount</th>\n",
       "      <th>total_discount</th>\n",
       "      <th>cancelled</th>\n",
       "      <th>replaced</th>\n",
       "      <th>percent_of_discount</th>\n",
       "      <th>average_price</th>\n",
       "    </tr>\n",
       "  </thead>\n",
       "  <tbody>\n",
       "    <tr>\n",
       "      <th>74</th>\n",
       "      <td>28</td>\n",
       "      <td>2020-03</td>\n",
       "      <td>4</td>\n",
       "      <td>0</td>\n",
       "      <td>0.0</td>\n",
       "      <td>888.0</td>\n",
       "      <td>0</td>\n",
       "      <td>43578.5</td>\n",
       "      <td>0</td>\n",
       "      <td>NaN</td>\n",
       "      <td>NaN</td>\n",
       "      <td>19.393611</td>\n",
       "      <td>512.0</td>\n",
       "      <td>340.0</td>\n",
       "      <td>55739.760031</td>\n",
       "      <td>17973.619997</td>\n",
       "      <td>16.0</td>\n",
       "      <td>22.0</td>\n",
       "      <td>35.381121</td>\n",
       "      <td>103.429751</td>\n",
       "    </tr>\n",
       "    <tr>\n",
       "      <th>75</th>\n",
       "      <td>28</td>\n",
       "      <td>2020-04</td>\n",
       "      <td>2</td>\n",
       "      <td>0</td>\n",
       "      <td>-250.0</td>\n",
       "      <td>316.0</td>\n",
       "      <td>5</td>\n",
       "      <td>23433.0</td>\n",
       "      <td>1</td>\n",
       "      <td>NaN</td>\n",
       "      <td>NaN</td>\n",
       "      <td>12.578333</td>\n",
       "      <td>152.0</td>\n",
       "      <td>130.0</td>\n",
       "      <td>19649.949957</td>\n",
       "      <td>1508.319998</td>\n",
       "      <td>4.0</td>\n",
       "      <td>6.0</td>\n",
       "      <td>9.581368</td>\n",
       "      <td>134.995903</td>\n",
       "    </tr>\n",
       "    <tr>\n",
       "      <th>76</th>\n",
       "      <td>28</td>\n",
       "      <td>2020-05</td>\n",
       "      <td>2</td>\n",
       "      <td>1</td>\n",
       "      <td>0.0</td>\n",
       "      <td>398.0</td>\n",
       "      <td>0</td>\n",
       "      <td>19039.5</td>\n",
       "      <td>1</td>\n",
       "      <td>NaN</td>\n",
       "      <td>NaN</td>\n",
       "      <td>3.638333</td>\n",
       "      <td>117.0</td>\n",
       "      <td>95.0</td>\n",
       "      <td>9650.150046</td>\n",
       "      <td>1038.700003</td>\n",
       "      <td>0.0</td>\n",
       "      <td>4.0</td>\n",
       "      <td>9.845550</td>\n",
       "      <td>82.395506</td>\n",
       "    </tr>\n",
       "    <tr>\n",
       "      <th>77</th>\n",
       "      <td>28</td>\n",
       "      <td>2020-06</td>\n",
       "      <td>1</td>\n",
       "      <td>0</td>\n",
       "      <td>0.0</td>\n",
       "      <td>158.0</td>\n",
       "      <td>4</td>\n",
       "      <td>20720.0</td>\n",
       "      <td>1</td>\n",
       "      <td>NaN</td>\n",
       "      <td>NaN</td>\n",
       "      <td>3.883056</td>\n",
       "      <td>46.0</td>\n",
       "      <td>41.0</td>\n",
       "      <td>8369.509975</td>\n",
       "      <td>495.800005</td>\n",
       "      <td>1.0</td>\n",
       "      <td>0.0</td>\n",
       "      <td>5.923883</td>\n",
       "      <td>181.945869</td>\n",
       "    </tr>\n",
       "  </tbody>\n",
       "</table>\n",
       "</div>"
      ],
      "text/plain": [
       "    phone_id order_completed_at_month  shipment_id  canceled_order  \\\n",
       "74        28                  2020-03            4               0   \n",
       "75        28                  2020-04            2               0   \n",
       "76        28                  2020-05            2               1   \n",
       "77        28                  2020-06            1               0   \n",
       "\n",
       "    promo_total  total_cost  rate  total_weight  app  gender_float  age  \\\n",
       "74          0.0       888.0     0       43578.5    0           NaN  NaN   \n",
       "75       -250.0       316.0     5       23433.0    1           NaN  NaN   \n",
       "76          0.0       398.0     0       19039.5    1           NaN  NaN   \n",
       "77          0.0       158.0     4       20720.0    1           NaN  NaN   \n",
       "\n",
       "    Wait hours  total_number_of_products  total_number_of_unique_products  \\\n",
       "74   19.393611                     512.0                            340.0   \n",
       "75   12.578333                     152.0                            130.0   \n",
       "76    3.638333                     117.0                             95.0   \n",
       "77    3.883056                      46.0                             41.0   \n",
       "\n",
       "    total_price_without_dicsount  total_discount  cancelled  replaced  \\\n",
       "74                  55739.760031    17973.619997       16.0      22.0   \n",
       "75                  19649.949957     1508.319998        4.0       6.0   \n",
       "76                   9650.150046     1038.700003        0.0       4.0   \n",
       "77                   8369.509975      495.800005        1.0       0.0   \n",
       "\n",
       "    percent_of_discount  average_price  \n",
       "74            35.381121     103.429751  \n",
       "75             9.581368     134.995903  \n",
       "76             9.845550      82.395506  \n",
       "77             5.923883     181.945869  "
      ]
     },
     "execution_count": 154,
     "metadata": {},
     "output_type": "execute_result"
    }
   ],
   "source": [
    "final_train[final_train['phone_id'] == 28].iloc[:, :20]"
   ]
  },
  {
   "cell_type": "code",
   "execution_count": null,
   "metadata": {},
   "outputs": [],
   "source": []
  },
  {
   "cell_type": "code",
   "execution_count": null,
   "metadata": {},
   "outputs": [],
   "source": []
  }
 ],
 "metadata": {
  "kernelspec": {
   "display_name": "Python 3",
   "language": "python",
   "name": "python3"
  },
  "language_info": {
   "codemirror_mode": {
    "name": "ipython",
    "version": 3
   },
   "file_extension": ".py",
   "mimetype": "text/x-python",
   "name": "python",
   "nbconvert_exporter": "python",
   "pygments_lexer": "ipython3",
   "version": "3.7.6"
  }
 },
 "nbformat": 4,
 "nbformat_minor": 4
}
